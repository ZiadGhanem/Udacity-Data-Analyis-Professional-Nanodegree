{
  "nbformat": 4,
  "nbformat_minor": 0,
  "metadata": {
    "colab": {
      "name": "wrangle_act.ipynb",
      "provenance": [],
      "collapsed_sections": [
        "Ls8ZmBpWl_nh"
      ]
    },
    "kernelspec": {
      "name": "python3",
      "display_name": "Python 3"
    }
  },
  "cells": [
    {
      "cell_type": "code",
      "metadata": {
        "id": "_W3exPNgEeOS",
        "outputId": "494503e6-0764-464a-8acb-54d6b28e2872",
        "colab": {
          "base_uri": "https://localhost:8080/",
          "height": 208
        }
      },
      "source": [
        "# Download twitter_archive_enhanced.csv file\n",
        "!wget https://d17h27t6h515a5.cloudfront.net/topher/2017/August/59a4e958_twitter-archive-enhanced/twitter-archive-enhanced.csv"
      ],
      "execution_count": 1,
      "outputs": [
        {
          "output_type": "stream",
          "text": [
            "--2020-10-11 20:52:51--  https://d17h27t6h515a5.cloudfront.net/topher/2017/August/59a4e958_twitter-archive-enhanced/twitter-archive-enhanced.csv\n",
            "Resolving d17h27t6h515a5.cloudfront.net (d17h27t6h515a5.cloudfront.net)... 13.224.10.62, 13.224.10.52, 13.224.10.190, ...\n",
            "Connecting to d17h27t6h515a5.cloudfront.net (d17h27t6h515a5.cloudfront.net)|13.224.10.62|:443... connected.\n",
            "HTTP request sent, awaiting response... 200 OK\n",
            "Length: 915692 (894K) [text/csv]\n",
            "Saving to: ‘twitter-archive-enhanced.csv’\n",
            "\n",
            "twitter-archive-enh 100%[===================>] 894.23K  --.-KB/s    in 0.04s   \n",
            "\n",
            "2020-10-11 20:52:52 (21.2 MB/s) - ‘twitter-archive-enhanced.csv’ saved [915692/915692]\n",
            "\n"
          ],
          "name": "stdout"
        }
      ]
    },
    {
      "cell_type": "code",
      "metadata": {
        "id": "hUEm7lPXEocI",
        "outputId": "f03a5dad-0b3e-4676-8d1c-c1c0dade7d35",
        "colab": {
          "base_uri": "https://localhost:8080/",
          "height": 208
        }
      },
      "source": [
        "# Download image_predictions.tsv file\n",
        "!wget https://d17h27t6h515a5.cloudfront.net/topher/2017/August/599fd2ad_image-predictions/image-predictions.tsv"
      ],
      "execution_count": 2,
      "outputs": [
        {
          "output_type": "stream",
          "text": [
            "--2020-10-11 20:52:52--  https://d17h27t6h515a5.cloudfront.net/topher/2017/August/599fd2ad_image-predictions/image-predictions.tsv\n",
            "Resolving d17h27t6h515a5.cloudfront.net (d17h27t6h515a5.cloudfront.net)... 13.224.10.52, 13.224.10.62, 13.224.10.99, ...\n",
            "Connecting to d17h27t6h515a5.cloudfront.net (d17h27t6h515a5.cloudfront.net)|13.224.10.52|:443... connected.\n",
            "HTTP request sent, awaiting response... 200 OK\n",
            "Length: 335079 (327K) [text/tab-separated-values]\n",
            "Saving to: ‘image-predictions.tsv’\n",
            "\n",
            "image-predictions.t 100%[===================>] 327.23K  1.24MB/s    in 0.3s    \n",
            "\n",
            "2020-10-11 20:52:53 (1.24 MB/s) - ‘image-predictions.tsv’ saved [335079/335079]\n",
            "\n"
          ],
          "name": "stdout"
        }
      ]
    },
    {
      "cell_type": "code",
      "metadata": {
        "id": "LHaA4_1piy9x",
        "outputId": "51b2c58c-b981-430b-b6e9-c30ddaf9b6da",
        "colab": {
          "base_uri": "https://localhost:8080/",
          "height": 208
        }
      },
      "source": [
        "# Download JSON file\n",
        "!wget https://video.udacity-data.com/topher/2018/November/5be5fb7d_tweet-json/tweet-json.txt"
      ],
      "execution_count": 3,
      "outputs": [
        {
          "output_type": "stream",
          "text": [
            "--2020-10-11 20:52:53--  https://video.udacity-data.com/topher/2018/November/5be5fb7d_tweet-json/tweet-json.txt\n",
            "Resolving video.udacity-data.com (video.udacity-data.com)... 104.21.234.211, 104.21.234.210, 2606:4700:3038::6815:ead3, ...\n",
            "Connecting to video.udacity-data.com (video.udacity-data.com)|104.21.234.211|:443... connected.\n",
            "HTTP request sent, awaiting response... 200 OK\n",
            "Length: 10609234 (10M) [text/plain]\n",
            "Saving to: ‘tweet-json.txt’\n",
            "\n",
            "tweet-json.txt      100%[===================>]  10.12M  10.5MB/s    in 1.0s    \n",
            "\n",
            "2020-10-11 20:52:54 (10.5 MB/s) - ‘tweet-json.txt’ saved [10609234/10609234]\n",
            "\n"
          ],
          "name": "stdout"
        }
      ]
    },
    {
      "cell_type": "code",
      "metadata": {
        "id": "lo2WSWvNEvQz"
      },
      "source": [
        "import pandas as pd\n",
        "import json\n",
        "import numpy as np\n",
        "import matplotlib.pyplot as plt"
      ],
      "execution_count": 4,
      "outputs": []
    },
    {
      "cell_type": "code",
      "metadata": {
        "id": "KzJlVe_ME1IY"
      },
      "source": [
        "# Load twitter_archive_enhanced.csv file as a dataframe\n",
        "twitter_df = pd.read_csv(\"twitter-archive-enhanced.csv\")\n",
        "\n",
        "# Load image_predictions.tsv file as a dataframe\n",
        "predicitions_df = pd.read_csv(\"image-predictions.tsv\", sep='\\t')"
      ],
      "execution_count": 5,
      "outputs": []
    },
    {
      "cell_type": "code",
      "metadata": {
        "id": "pChoj-ujLT05",
        "outputId": "e69d66f3-2a70-4e32-aec4-431868338f59",
        "colab": {
          "base_uri": "https://localhost:8080/",
          "height": 105
        }
      },
      "source": [
        "\"\"\"\n",
        "import tweepy\n",
        "from timeit import default_timer as timer\n",
        "\n",
        "consumer_key = ''\n",
        "consumer_secret = ''\n",
        "access_token = ''\n",
        "access_secret = ''\n",
        "\n",
        "auth = tweepy.OAuthHandler(consumer_key, consumer_secret)\n",
        "auth.set_access_token(access_token, access_secret)\n",
        "\n",
        "api = tweepy.API(auth)\n",
        "\n",
        "# Query Twitter's API for JSON data for each tweet ID in the Twitter archive\n",
        "count = 0\n",
        "fails_dict = {}\n",
        "start = timer()\n",
        "# Save each tweet's returned JSON as a new line in a .txt file\n",
        "with open(\"tweet_json.txt\", \"w\") as outfile:\n",
        "  for tweet_id in twitter_df[\"tweet_id\"].values:\n",
        "    count += 1\n",
        "    print(str(count) + \": \" + str(tweet_id))\n",
        "    try:\n",
        "      tweet = api.get_status(tweet_id, tweet_mode='extended')\n",
        "      print(\"Success\")\n",
        "      json.dump(tweet._json, outfile)\n",
        "      outfile.write('\\n')\n",
        "    except tweepy.TweepError as e:\n",
        "      print(\"Fail\")\n",
        "      fails_dict[tweet_id] = e\n",
        "      pass\n",
        "end = timer()\n",
        "print(end - start)\n",
        "print(fails_dict)\n",
        "\n",
        "\"\"\""
      ],
      "execution_count": 6,
      "outputs": [
        {
          "output_type": "execute_result",
          "data": {
            "application/vnd.google.colaboratory.intrinsic+json": {
              "type": "string"
            },
            "text/plain": [
              "'\\nimport tweepy\\nfrom timeit import default_timer as timer\\n\\nconsumer_key = \\'\\'\\nconsumer_secret = \\'\\'\\naccess_token = \\'\\'\\naccess_secret = \\'\\'\\n\\nauth = tweepy.OAuthHandler(consumer_key, consumer_secret)\\nauth.set_access_token(access_token, access_secret)\\n\\napi = tweepy.API(auth)\\n\\n# Query Twitter\\'s API for JSON data for each tweet ID in the Twitter archive\\ncount = 0\\nfails_dict = {}\\nstart = timer()\\n# Save each tweet\\'s returned JSON as a new line in a .txt file\\nwith open(\"tweet_json.txt\", \"w\") as outfile:\\n  for tweet_id in twitter_df[\"tweet_id\"].values:\\n    count += 1\\n    print(str(count) + \": \" + str(tweet_id))\\n    try:\\n      tweet = api.get_status(tweet_id, tweet_mode=\\'extended\\')\\n      print(\"Success\")\\n      json.dump(tweet._json, outfile)\\n      outfile.write(\\'\\n\\')\\n    except tweepy.TweepError as e:\\n      print(\"Fail\")\\n      fails_dict[tweet_id] = e\\n      pass\\nend = timer()\\nprint(end - start)\\nprint(fails_dict)\\n\\n'"
            ]
          },
          "metadata": {
            "tags": []
          },
          "execution_count": 6
        }
      ]
    },
    {
      "cell_type": "code",
      "metadata": {
        "id": "a9UQo2WEi5ks"
      },
      "source": [
        "# Load tweet-json.txt file as a dataframe\n",
        "json_data = []\n",
        "with open('tweet-json.txt') as json_file:\n",
        "  for line in json_file:\n",
        "    json_data.append(json.loads(line))\n",
        "\n",
        "tweet_json_df = pd.DataFrame(json_data)"
      ],
      "execution_count": 7,
      "outputs": []
    },
    {
      "cell_type": "code",
      "metadata": {
        "id": "IOuMiX8HfpRV",
        "outputId": "95d95d40-92b3-4f94-912a-5fec5f3a1f65",
        "colab": {
          "base_uri": "https://localhost:8080/",
          "height": 191
        }
      },
      "source": [
        "tweet_json_df.columns"
      ],
      "execution_count": 8,
      "outputs": [
        {
          "output_type": "execute_result",
          "data": {
            "text/plain": [
              "Index(['created_at', 'id', 'id_str', 'full_text', 'truncated',\n",
              "       'display_text_range', 'entities', 'extended_entities', 'source',\n",
              "       'in_reply_to_status_id', 'in_reply_to_status_id_str',\n",
              "       'in_reply_to_user_id', 'in_reply_to_user_id_str',\n",
              "       'in_reply_to_screen_name', 'user', 'geo', 'coordinates', 'place',\n",
              "       'contributors', 'is_quote_status', 'retweet_count', 'favorite_count',\n",
              "       'favorited', 'retweeted', 'possibly_sensitive',\n",
              "       'possibly_sensitive_appealable', 'lang', 'retweeted_status',\n",
              "       'quoted_status_id', 'quoted_status_id_str', 'quoted_status'],\n",
              "      dtype='object')"
            ]
          },
          "metadata": {
            "tags": []
          },
          "execution_count": 8
        }
      ]
    },
    {
      "cell_type": "code",
      "metadata": {
        "id": "TDa374Z9iXe3"
      },
      "source": [
        "# Drop all columns except id, retweet_count, favorite_count\n",
        "tweet_json_df = tweet_json_df[['id','retweet_count', 'favorite_count']]"
      ],
      "execution_count": 9,
      "outputs": []
    },
    {
      "cell_type": "markdown",
      "metadata": {
        "id": "uPTSK2A8BVch"
      },
      "source": [
        "# Twitter Dataframe"
      ]
    },
    {
      "cell_type": "code",
      "metadata": {
        "id": "EfnZeg7DFJ7I",
        "outputId": "3b92b95c-aba5-4ec0-e7dc-8f4ebedfdd9c",
        "colab": {
          "base_uri": "https://localhost:8080/",
          "height": 591
        }
      },
      "source": [
        "twitter_df.head()"
      ],
      "execution_count": 10,
      "outputs": [
        {
          "output_type": "execute_result",
          "data": {
            "text/html": [
              "<div>\n",
              "<style scoped>\n",
              "    .dataframe tbody tr th:only-of-type {\n",
              "        vertical-align: middle;\n",
              "    }\n",
              "\n",
              "    .dataframe tbody tr th {\n",
              "        vertical-align: top;\n",
              "    }\n",
              "\n",
              "    .dataframe thead th {\n",
              "        text-align: right;\n",
              "    }\n",
              "</style>\n",
              "<table border=\"1\" class=\"dataframe\">\n",
              "  <thead>\n",
              "    <tr style=\"text-align: right;\">\n",
              "      <th></th>\n",
              "      <th>tweet_id</th>\n",
              "      <th>in_reply_to_status_id</th>\n",
              "      <th>in_reply_to_user_id</th>\n",
              "      <th>timestamp</th>\n",
              "      <th>source</th>\n",
              "      <th>text</th>\n",
              "      <th>retweeted_status_id</th>\n",
              "      <th>retweeted_status_user_id</th>\n",
              "      <th>retweeted_status_timestamp</th>\n",
              "      <th>expanded_urls</th>\n",
              "      <th>rating_numerator</th>\n",
              "      <th>rating_denominator</th>\n",
              "      <th>name</th>\n",
              "      <th>doggo</th>\n",
              "      <th>floofer</th>\n",
              "      <th>pupper</th>\n",
              "      <th>puppo</th>\n",
              "    </tr>\n",
              "  </thead>\n",
              "  <tbody>\n",
              "    <tr>\n",
              "      <th>0</th>\n",
              "      <td>892420643555336193</td>\n",
              "      <td>NaN</td>\n",
              "      <td>NaN</td>\n",
              "      <td>2017-08-01 16:23:56 +0000</td>\n",
              "      <td>&lt;a href=\"http://twitter.com/download/iphone\" r...</td>\n",
              "      <td>This is Phineas. He's a mystical boy. Only eve...</td>\n",
              "      <td>NaN</td>\n",
              "      <td>NaN</td>\n",
              "      <td>NaN</td>\n",
              "      <td>https://twitter.com/dog_rates/status/892420643...</td>\n",
              "      <td>13</td>\n",
              "      <td>10</td>\n",
              "      <td>Phineas</td>\n",
              "      <td>None</td>\n",
              "      <td>None</td>\n",
              "      <td>None</td>\n",
              "      <td>None</td>\n",
              "    </tr>\n",
              "    <tr>\n",
              "      <th>1</th>\n",
              "      <td>892177421306343426</td>\n",
              "      <td>NaN</td>\n",
              "      <td>NaN</td>\n",
              "      <td>2017-08-01 00:17:27 +0000</td>\n",
              "      <td>&lt;a href=\"http://twitter.com/download/iphone\" r...</td>\n",
              "      <td>This is Tilly. She's just checking pup on you....</td>\n",
              "      <td>NaN</td>\n",
              "      <td>NaN</td>\n",
              "      <td>NaN</td>\n",
              "      <td>https://twitter.com/dog_rates/status/892177421...</td>\n",
              "      <td>13</td>\n",
              "      <td>10</td>\n",
              "      <td>Tilly</td>\n",
              "      <td>None</td>\n",
              "      <td>None</td>\n",
              "      <td>None</td>\n",
              "      <td>None</td>\n",
              "    </tr>\n",
              "    <tr>\n",
              "      <th>2</th>\n",
              "      <td>891815181378084864</td>\n",
              "      <td>NaN</td>\n",
              "      <td>NaN</td>\n",
              "      <td>2017-07-31 00:18:03 +0000</td>\n",
              "      <td>&lt;a href=\"http://twitter.com/download/iphone\" r...</td>\n",
              "      <td>This is Archie. He is a rare Norwegian Pouncin...</td>\n",
              "      <td>NaN</td>\n",
              "      <td>NaN</td>\n",
              "      <td>NaN</td>\n",
              "      <td>https://twitter.com/dog_rates/status/891815181...</td>\n",
              "      <td>12</td>\n",
              "      <td>10</td>\n",
              "      <td>Archie</td>\n",
              "      <td>None</td>\n",
              "      <td>None</td>\n",
              "      <td>None</td>\n",
              "      <td>None</td>\n",
              "    </tr>\n",
              "    <tr>\n",
              "      <th>3</th>\n",
              "      <td>891689557279858688</td>\n",
              "      <td>NaN</td>\n",
              "      <td>NaN</td>\n",
              "      <td>2017-07-30 15:58:51 +0000</td>\n",
              "      <td>&lt;a href=\"http://twitter.com/download/iphone\" r...</td>\n",
              "      <td>This is Darla. She commenced a snooze mid meal...</td>\n",
              "      <td>NaN</td>\n",
              "      <td>NaN</td>\n",
              "      <td>NaN</td>\n",
              "      <td>https://twitter.com/dog_rates/status/891689557...</td>\n",
              "      <td>13</td>\n",
              "      <td>10</td>\n",
              "      <td>Darla</td>\n",
              "      <td>None</td>\n",
              "      <td>None</td>\n",
              "      <td>None</td>\n",
              "      <td>None</td>\n",
              "    </tr>\n",
              "    <tr>\n",
              "      <th>4</th>\n",
              "      <td>891327558926688256</td>\n",
              "      <td>NaN</td>\n",
              "      <td>NaN</td>\n",
              "      <td>2017-07-29 16:00:24 +0000</td>\n",
              "      <td>&lt;a href=\"http://twitter.com/download/iphone\" r...</td>\n",
              "      <td>This is Franklin. He would like you to stop ca...</td>\n",
              "      <td>NaN</td>\n",
              "      <td>NaN</td>\n",
              "      <td>NaN</td>\n",
              "      <td>https://twitter.com/dog_rates/status/891327558...</td>\n",
              "      <td>12</td>\n",
              "      <td>10</td>\n",
              "      <td>Franklin</td>\n",
              "      <td>None</td>\n",
              "      <td>None</td>\n",
              "      <td>None</td>\n",
              "      <td>None</td>\n",
              "    </tr>\n",
              "  </tbody>\n",
              "</table>\n",
              "</div>"
            ],
            "text/plain": [
              "             tweet_id  in_reply_to_status_id  ...  pupper puppo\n",
              "0  892420643555336193                    NaN  ...    None  None\n",
              "1  892177421306343426                    NaN  ...    None  None\n",
              "2  891815181378084864                    NaN  ...    None  None\n",
              "3  891689557279858688                    NaN  ...    None  None\n",
              "4  891327558926688256                    NaN  ...    None  None\n",
              "\n",
              "[5 rows x 17 columns]"
            ]
          },
          "metadata": {
            "tags": []
          },
          "execution_count": 10
        }
      ]
    },
    {
      "cell_type": "code",
      "metadata": {
        "id": "0gxYk6zkFPur",
        "outputId": "8af1b401-9ba2-43d2-c831-ebd0e233164b",
        "colab": {
          "base_uri": "https://localhost:8080/",
          "height": 434
        }
      },
      "source": [
        "twitter_df.info()"
      ],
      "execution_count": 11,
      "outputs": [
        {
          "output_type": "stream",
          "text": [
            "<class 'pandas.core.frame.DataFrame'>\n",
            "RangeIndex: 2356 entries, 0 to 2355\n",
            "Data columns (total 17 columns):\n",
            " #   Column                      Non-Null Count  Dtype  \n",
            "---  ------                      --------------  -----  \n",
            " 0   tweet_id                    2356 non-null   int64  \n",
            " 1   in_reply_to_status_id       78 non-null     float64\n",
            " 2   in_reply_to_user_id         78 non-null     float64\n",
            " 3   timestamp                   2356 non-null   object \n",
            " 4   source                      2356 non-null   object \n",
            " 5   text                        2356 non-null   object \n",
            " 6   retweeted_status_id         181 non-null    float64\n",
            " 7   retweeted_status_user_id    181 non-null    float64\n",
            " 8   retweeted_status_timestamp  181 non-null    object \n",
            " 9   expanded_urls               2297 non-null   object \n",
            " 10  rating_numerator            2356 non-null   int64  \n",
            " 11  rating_denominator          2356 non-null   int64  \n",
            " 12  name                        2356 non-null   object \n",
            " 13  doggo                       2356 non-null   object \n",
            " 14  floofer                     2356 non-null   object \n",
            " 15  pupper                      2356 non-null   object \n",
            " 16  puppo                       2356 non-null   object \n",
            "dtypes: float64(4), int64(3), object(10)\n",
            "memory usage: 313.0+ KB\n"
          ],
          "name": "stdout"
        }
      ]
    },
    {
      "cell_type": "code",
      "metadata": {
        "id": "A6S88fTcfYXa",
        "outputId": "d3ceb496-098a-4097-e837-fc380c4cf1ee",
        "colab": {
          "base_uri": "https://localhost:8080/",
          "height": 34
        }
      },
      "source": [
        "type(twitter_df['timestamp'][0])"
      ],
      "execution_count": 12,
      "outputs": [
        {
          "output_type": "execute_result",
          "data": {
            "text/plain": [
              "str"
            ]
          },
          "metadata": {
            "tags": []
          },
          "execution_count": 12
        }
      ]
    },
    {
      "cell_type": "code",
      "metadata": {
        "id": "tQ-URne8FWXP",
        "outputId": "82808b0e-699d-4342-dcb3-e0e65e061ad6",
        "colab": {
          "base_uri": "https://localhost:8080/",
          "height": 300
        }
      },
      "source": [
        "twitter_df.describe()"
      ],
      "execution_count": 13,
      "outputs": [
        {
          "output_type": "execute_result",
          "data": {
            "text/html": [
              "<div>\n",
              "<style scoped>\n",
              "    .dataframe tbody tr th:only-of-type {\n",
              "        vertical-align: middle;\n",
              "    }\n",
              "\n",
              "    .dataframe tbody tr th {\n",
              "        vertical-align: top;\n",
              "    }\n",
              "\n",
              "    .dataframe thead th {\n",
              "        text-align: right;\n",
              "    }\n",
              "</style>\n",
              "<table border=\"1\" class=\"dataframe\">\n",
              "  <thead>\n",
              "    <tr style=\"text-align: right;\">\n",
              "      <th></th>\n",
              "      <th>tweet_id</th>\n",
              "      <th>in_reply_to_status_id</th>\n",
              "      <th>in_reply_to_user_id</th>\n",
              "      <th>retweeted_status_id</th>\n",
              "      <th>retweeted_status_user_id</th>\n",
              "      <th>rating_numerator</th>\n",
              "      <th>rating_denominator</th>\n",
              "    </tr>\n",
              "  </thead>\n",
              "  <tbody>\n",
              "    <tr>\n",
              "      <th>count</th>\n",
              "      <td>2.356000e+03</td>\n",
              "      <td>7.800000e+01</td>\n",
              "      <td>7.800000e+01</td>\n",
              "      <td>1.810000e+02</td>\n",
              "      <td>1.810000e+02</td>\n",
              "      <td>2356.000000</td>\n",
              "      <td>2356.000000</td>\n",
              "    </tr>\n",
              "    <tr>\n",
              "      <th>mean</th>\n",
              "      <td>7.427716e+17</td>\n",
              "      <td>7.455079e+17</td>\n",
              "      <td>2.014171e+16</td>\n",
              "      <td>7.720400e+17</td>\n",
              "      <td>1.241698e+16</td>\n",
              "      <td>13.126486</td>\n",
              "      <td>10.455433</td>\n",
              "    </tr>\n",
              "    <tr>\n",
              "      <th>std</th>\n",
              "      <td>6.856705e+16</td>\n",
              "      <td>7.582492e+16</td>\n",
              "      <td>1.252797e+17</td>\n",
              "      <td>6.236928e+16</td>\n",
              "      <td>9.599254e+16</td>\n",
              "      <td>45.876648</td>\n",
              "      <td>6.745237</td>\n",
              "    </tr>\n",
              "    <tr>\n",
              "      <th>min</th>\n",
              "      <td>6.660209e+17</td>\n",
              "      <td>6.658147e+17</td>\n",
              "      <td>1.185634e+07</td>\n",
              "      <td>6.661041e+17</td>\n",
              "      <td>7.832140e+05</td>\n",
              "      <td>0.000000</td>\n",
              "      <td>0.000000</td>\n",
              "    </tr>\n",
              "    <tr>\n",
              "      <th>25%</th>\n",
              "      <td>6.783989e+17</td>\n",
              "      <td>6.757419e+17</td>\n",
              "      <td>3.086374e+08</td>\n",
              "      <td>7.186315e+17</td>\n",
              "      <td>4.196984e+09</td>\n",
              "      <td>10.000000</td>\n",
              "      <td>10.000000</td>\n",
              "    </tr>\n",
              "    <tr>\n",
              "      <th>50%</th>\n",
              "      <td>7.196279e+17</td>\n",
              "      <td>7.038708e+17</td>\n",
              "      <td>4.196984e+09</td>\n",
              "      <td>7.804657e+17</td>\n",
              "      <td>4.196984e+09</td>\n",
              "      <td>11.000000</td>\n",
              "      <td>10.000000</td>\n",
              "    </tr>\n",
              "    <tr>\n",
              "      <th>75%</th>\n",
              "      <td>7.993373e+17</td>\n",
              "      <td>8.257804e+17</td>\n",
              "      <td>4.196984e+09</td>\n",
              "      <td>8.203146e+17</td>\n",
              "      <td>4.196984e+09</td>\n",
              "      <td>12.000000</td>\n",
              "      <td>10.000000</td>\n",
              "    </tr>\n",
              "    <tr>\n",
              "      <th>max</th>\n",
              "      <td>8.924206e+17</td>\n",
              "      <td>8.862664e+17</td>\n",
              "      <td>8.405479e+17</td>\n",
              "      <td>8.874740e+17</td>\n",
              "      <td>7.874618e+17</td>\n",
              "      <td>1776.000000</td>\n",
              "      <td>170.000000</td>\n",
              "    </tr>\n",
              "  </tbody>\n",
              "</table>\n",
              "</div>"
            ],
            "text/plain": [
              "           tweet_id  ...  rating_denominator\n",
              "count  2.356000e+03  ...         2356.000000\n",
              "mean   7.427716e+17  ...           10.455433\n",
              "std    6.856705e+16  ...            6.745237\n",
              "min    6.660209e+17  ...            0.000000\n",
              "25%    6.783989e+17  ...           10.000000\n",
              "50%    7.196279e+17  ...           10.000000\n",
              "75%    7.993373e+17  ...           10.000000\n",
              "max    8.924206e+17  ...          170.000000\n",
              "\n",
              "[8 rows x 7 columns]"
            ]
          },
          "metadata": {
            "tags": []
          },
          "execution_count": 13
        }
      ]
    },
    {
      "cell_type": "code",
      "metadata": {
        "id": "AjdWVzyyo63-",
        "outputId": "b64b9f57-ef84-4554-ccf2-3163509ee80d",
        "colab": {
          "base_uri": "https://localhost:8080/",
          "height": 225
        }
      },
      "source": [
        "twitter_df[\"rating_numerator\"].sort_values()"
      ],
      "execution_count": 14,
      "outputs": [
        {
          "output_type": "execute_result",
          "data": {
            "text/plain": [
              "315        0\n",
              "1016       0\n",
              "2335       1\n",
              "2261       1\n",
              "2338       1\n",
              "        ... \n",
              "2074     420\n",
              "188      420\n",
              "189      666\n",
              "313      960\n",
              "979     1776\n",
              "Name: rating_numerator, Length: 2356, dtype: int64"
            ]
          },
          "metadata": {
            "tags": []
          },
          "execution_count": 14
        }
      ]
    },
    {
      "cell_type": "code",
      "metadata": {
        "id": "9NBpD5iElkEz",
        "outputId": "9c7dba74-ec01-433e-84fa-3a732abd720d",
        "colab": {
          "base_uri": "https://localhost:8080/",
          "height": 347
        }
      },
      "source": [
        "twitter_df[\"rating_denominator\"].value_counts()"
      ],
      "execution_count": 15,
      "outputs": [
        {
          "output_type": "execute_result",
          "data": {
            "text/plain": [
              "10     2333\n",
              "11        3\n",
              "50        3\n",
              "80        2\n",
              "20        2\n",
              "2         1\n",
              "16        1\n",
              "40        1\n",
              "70        1\n",
              "15        1\n",
              "90        1\n",
              "110       1\n",
              "120       1\n",
              "130       1\n",
              "150       1\n",
              "170       1\n",
              "7         1\n",
              "0         1\n",
              "Name: rating_denominator, dtype: int64"
            ]
          },
          "metadata": {
            "tags": []
          },
          "execution_count": 15
        }
      ]
    },
    {
      "cell_type": "code",
      "metadata": {
        "id": "4wAaCrNAEctF",
        "outputId": "d4007e11-0367-4257-a16c-c758a3dfd788",
        "colab": {
          "base_uri": "https://localhost:8080/",
          "height": 729
        }
      },
      "source": [
        "twitter_df[\"rating_numerator\"].value_counts()"
      ],
      "execution_count": 16,
      "outputs": [
        {
          "output_type": "execute_result",
          "data": {
            "text/plain": [
              "12      558\n",
              "11      464\n",
              "10      461\n",
              "13      351\n",
              "9       158\n",
              "8       102\n",
              "7        55\n",
              "14       54\n",
              "5        37\n",
              "6        32\n",
              "3        19\n",
              "4        17\n",
              "1         9\n",
              "2         9\n",
              "420       2\n",
              "0         2\n",
              "15        2\n",
              "75        2\n",
              "80        1\n",
              "20        1\n",
              "24        1\n",
              "26        1\n",
              "44        1\n",
              "50        1\n",
              "60        1\n",
              "165       1\n",
              "84        1\n",
              "88        1\n",
              "144       1\n",
              "182       1\n",
              "143       1\n",
              "666       1\n",
              "960       1\n",
              "1776      1\n",
              "17        1\n",
              "27        1\n",
              "45        1\n",
              "99        1\n",
              "121       1\n",
              "204       1\n",
              "Name: rating_numerator, dtype: int64"
            ]
          },
          "metadata": {
            "tags": []
          },
          "execution_count": 16
        }
      ]
    },
    {
      "cell_type": "code",
      "metadata": {
        "id": "4NtqLqF9vRiT",
        "outputId": "a9ec23ea-05fa-4ff2-9d0a-96ab18c8c5ee",
        "colab": {
          "base_uri": "https://localhost:8080/",
          "height": 1000
        }
      },
      "source": [
        "twitter_df[\"name\"].unique()"
      ],
      "execution_count": 17,
      "outputs": [
        {
          "output_type": "execute_result",
          "data": {
            "text/plain": [
              "array(['Phineas', 'Tilly', 'Archie', 'Darla', 'Franklin', 'None', 'Jax',\n",
              "       'Zoey', 'Cassie', 'Koda', 'Bruno', 'Ted', 'Stuart', 'Oliver',\n",
              "       'Jim', 'Zeke', 'Ralphus', 'Canela', 'Gerald', 'Jeffrey', 'such',\n",
              "       'Maya', 'Mingus', 'Derek', 'Roscoe', 'Waffles', 'Jimbo', 'Maisey',\n",
              "       'Lilly', 'Earl', 'Lola', 'Kevin', 'Yogi', 'Noah', 'Bella',\n",
              "       'Grizzwald', 'Rusty', 'Gus', 'Stanley', 'Alfy', 'Koko', 'Rey',\n",
              "       'Gary', 'a', 'Elliot', 'Louis', 'Jesse', 'Romeo', 'Bailey',\n",
              "       'Duddles', 'Jack', 'Emmy', 'Steven', 'Beau', 'Snoopy', 'Shadow',\n",
              "       'Terrance', 'Aja', 'Penny', 'Dante', 'Nelly', 'Ginger', 'Benedict',\n",
              "       'Venti', 'Goose', 'Nugget', 'Cash', 'Coco', 'Jed', 'Sebastian',\n",
              "       'Walter', 'Sierra', 'Monkey', 'Harry', 'Kody', 'Lassie', 'Rover',\n",
              "       'Napolean', 'Dawn', 'Boomer', 'Cody', 'Rumble', 'Clifford',\n",
              "       'quite', 'Dewey', 'Scout', 'Gizmo', 'Cooper', 'Harold', 'Shikha',\n",
              "       'Jamesy', 'Lili', 'Sammy', 'Meatball', 'Paisley', 'Albus',\n",
              "       'Neptune', 'Quinn', 'Belle', 'Zooey', 'Dave', 'Jersey', 'Hobbes',\n",
              "       'Burt', 'Lorenzo', 'Carl', 'Jordy', 'Milky', 'Trooper', 'Winston',\n",
              "       'Sophie', 'Wyatt', 'Rosie', 'Thor', 'Oscar', 'Luna', 'Callie',\n",
              "       'Cermet', 'George', 'Marlee', 'Arya', 'Einstein', 'Alice',\n",
              "       'Rumpole', 'Benny', 'Aspen', 'Jarod', 'Wiggles', 'General',\n",
              "       'Sailor', 'Astrid', 'Iggy', 'Snoop', 'Kyle', 'Leo', 'Riley',\n",
              "       'Gidget', 'Noosh', 'Odin', 'Jerry', 'Charlie', 'Georgie', 'Rontu',\n",
              "       'Cannon', 'Furzey', 'Daisy', 'Tuck', 'Barney', 'Vixen', 'Jarvis',\n",
              "       'Mimosa', 'Pickles', 'Bungalo', 'Brady', 'Margo', 'Sadie', 'Hank',\n",
              "       'Tycho', 'Stephan', 'Indie', 'Winnie', 'Bentley', 'Ken', 'Max',\n",
              "       'Maddie', 'Pipsy', 'Monty', 'Sojourner', 'Odie', 'Arlo', 'Sunny',\n",
              "       'Vincent', 'Lucy', 'Clark', 'Mookie', 'Meera', 'Buddy', 'Ava',\n",
              "       'Rory', 'Eli', 'Ash', 'Tucker', 'Tobi', 'Chester', 'Wilson',\n",
              "       'Sunshine', 'Lipton', 'Gabby', 'Bronte', 'Poppy', 'Rhino',\n",
              "       'Willow', 'not', 'Orion', 'Eevee', 'Smiley', 'Logan', 'Moreton',\n",
              "       'Klein', 'Miguel', 'Emanuel', 'Kuyu', 'Dutch', 'Pete', 'Scooter',\n",
              "       'Reggie', 'Kyro', 'Samson', 'Loki', 'Mia', 'Malcolm', 'Dexter',\n",
              "       'Alfie', 'Fiona', 'one', 'Mutt', 'Bear', 'Doobert', 'Beebop',\n",
              "       'Alexander', 'Sailer', 'Brutus', 'Kona', 'Boots', 'Ralphie',\n",
              "       'Phil', 'Cupid', 'Pawnd', 'Pilot', 'Ike', 'Mo', 'Toby', 'Sweet',\n",
              "       'Pablo', 'Nala', 'Balto', 'Crawford', 'Gabe', 'Mattie', 'Jimison',\n",
              "       'Hercules', 'Duchess', 'Harlso', 'Sampson', 'Sundance', 'Luca',\n",
              "       'Flash', 'Finn', 'Peaches', 'Howie', 'Jazzy', 'Anna', 'Bo',\n",
              "       'Seamus', 'Wafer', 'Chelsea', 'Tom', 'Moose', 'Florence', 'Autumn',\n",
              "       'Dido', 'Eugene', 'Herschel', 'Strudel', 'Tebow', 'Chloe', 'Betty',\n",
              "       'Timber', 'Binky', 'Dudley', 'Comet', 'Larry', 'Levi', 'Akumi',\n",
              "       'Titan', 'Olivia', 'Alf', 'Oshie', 'Bruce', 'Chubbs', 'Sky',\n",
              "       'Atlas', 'Eleanor', 'Layla', 'Rocky', 'Baron', 'Tyr', 'Bauer',\n",
              "       'Swagger', 'Brandi', 'Mary', 'Moe', 'Halo', 'Augie', 'Craig',\n",
              "       'Sam', 'Hunter', 'Pavlov', 'Maximus', 'Wallace', 'Ito', 'Milo',\n",
              "       'Ollie', 'Cali', 'Lennon', 'incredibly', 'Major', 'Duke',\n",
              "       'Reginald', 'Sansa', 'Shooter', 'Django', 'Diogi', 'Sonny',\n",
              "       'Philbert', 'Marley', 'Severus', 'Ronnie', 'Anakin', 'Bones',\n",
              "       'Mauve', 'Chef', 'Doc', 'Sobe', 'Longfellow', 'Mister', 'Iroh',\n",
              "       'Baloo', 'Stubert', 'Paull', 'Timison', 'Davey', 'Pancake',\n",
              "       'Tyrone', 'Snicku', 'Ruby', 'Brody', 'Rizzy', 'Mack', 'Butter',\n",
              "       'Nimbus', 'Laika', 'Dobby', 'Juno', 'Maude', 'Lily', 'Newt',\n",
              "       'Benji', 'Nida', 'Robin', 'Monster', 'BeBe', 'Remus', 'Mabel',\n",
              "       'Misty', 'Happy', 'Mosby', 'Maggie', 'Leela', 'Ralphy', 'Brownie',\n",
              "       'Meyer', 'Stella', 'mad', 'Frank', 'Tonks', 'Lincoln', 'Oakley',\n",
              "       'Dale', 'Rizzo', 'Arnie', 'Pinot', 'Dallas', 'Hero', 'Frankie',\n",
              "       'Stormy', 'Mairi', 'Loomis', 'Godi', 'Kenny', 'Deacon', 'Timmy',\n",
              "       'Harper', 'Chipson', 'Combo', 'Dash', 'Bell', 'Hurley', 'Jay',\n",
              "       'Mya', 'Strider', 'an', 'Wesley', 'Solomon', 'Huck', 'very', 'O',\n",
              "       'Blue', 'Finley', 'Sprinkles', 'Heinrich', 'Shakespeare', 'Fizz',\n",
              "       'Chip', 'Grey', 'Roosevelt', 'Gromit', 'Willem', 'Dakota', 'Dixie',\n",
              "       'Al', 'Jackson', 'just', 'Carbon', 'DonDon', 'Kirby', 'Lou',\n",
              "       'Nollie', 'Chevy', 'Tito', 'Louie', 'Rupert', 'Rufus', 'Brudge',\n",
              "       'Shadoe', 'Colby', 'Angel', 'Brat', 'Tove', 'my', 'Aubie', 'Kota',\n",
              "       'Eve', 'Glenn', 'Shelby', 'Sephie', 'Bonaparte', 'Albert',\n",
              "       'Wishes', 'Rose', 'Theo', 'Rocco', 'Fido', 'Emma', 'Spencer',\n",
              "       'Lilli', 'Boston', 'Brandonald', 'Corey', 'Leonard', 'Chompsky',\n",
              "       'Beckham', 'Devón', 'Gert', 'Watson', 'Rubio', 'Keith', 'Dex',\n",
              "       'Carly', 'Ace', 'Tayzie', 'Grizzie', 'Fred', 'Gilbert', 'Zoe',\n",
              "       'Stewie', 'Calvin', 'Lilah', 'Spanky', 'Jameson', 'Piper',\n",
              "       'Atticus', 'Blu', 'Dietrich', 'Divine', 'Tripp', 'his', 'Cora',\n",
              "       'Huxley', 'Keurig', 'Bookstore', 'Linus', 'Abby', 'Shaggy',\n",
              "       'Shiloh', 'Gustav', 'Arlen', 'Percy', 'Lenox', 'Sugar', 'Harvey',\n",
              "       'Blanket', 'actually', 'Geno', 'Stark', 'Beya', 'Kilo', 'Kayla',\n",
              "       'Maxaroni', 'Doug', 'Edmund', 'Aqua', 'Theodore', 'Chase',\n",
              "       'getting', 'Rorie', 'Simba', 'Charles', 'Bayley', 'Axel',\n",
              "       'Storkson', 'Remy', 'Chadrick', 'Kellogg', 'Buckley', 'Livvie',\n",
              "       'Terry', 'Hermione', 'Ralpher', 'Aldrick', 'this', 'unacceptable',\n",
              "       'Rooney', 'Crystal', 'Ziva', 'Stefan', 'Pupcasso', 'Puff',\n",
              "       'Flurpson', 'Coleman', 'Enchilada', 'Raymond', 'all', 'Rueben',\n",
              "       'Cilantro', 'Karll', 'Sprout', 'Blitz', 'Bloop', 'Lillie',\n",
              "       'Ashleigh', 'Kreggory', 'Sarge', 'Luther', 'Ivar', 'Jangle',\n",
              "       'Schnitzel', 'Panda', 'Berkeley', 'Ralphé', 'Charleson', 'Clyde',\n",
              "       'Harnold', 'Sid', 'Pippa', 'Otis', 'Carper', 'Bowie',\n",
              "       'Alexanderson', 'Suki', 'Barclay', 'Skittle', 'Ebby', 'Flávio',\n",
              "       'Smokey', 'Link', 'Jennifur', 'Ozzy', 'Bluebert', 'Stephanus',\n",
              "       'Bubbles', 'old', 'Zeus', 'Bertson', 'Nico', 'Michelangelope',\n",
              "       'Siba', 'Calbert', 'Curtis', 'Travis', 'Thumas', 'Kanu', 'Lance',\n",
              "       'Opie', 'Kane', 'Olive', 'Chuckles', 'Staniel', 'Sora', 'Beemo',\n",
              "       'Gunner', 'infuriating', 'Lacy', 'Tater', 'Olaf', 'Cecil', 'Vince',\n",
              "       'Karma', 'Billy', 'Walker', 'Rodney', 'Klevin', 'Malikai',\n",
              "       'Bobble', 'River', 'Jebberson', 'Remington', 'Farfle', 'Jiminus',\n",
              "       'Clarkus', 'Finnegus', 'Cupcake', 'Kathmandu', 'Ellie', 'Katie',\n",
              "       'Kara', 'Adele', 'Zara', 'Ambrose', 'Jimothy', 'Bode', 'Terrenth',\n",
              "       'Reese', 'Chesterson', 'Lucia', 'Bisquick', 'Ralphson', 'Socks',\n",
              "       'Rambo', 'Rudy', 'Fiji', 'Rilo', 'Bilbo', 'Coopson', 'Yoda',\n",
              "       'Millie', 'Chet', 'Crouton', 'Daniel', 'Kaia', 'Murphy', 'Dotsy',\n",
              "       'Eazy', 'Coops', 'Fillup', 'Miley', 'Charl', 'Reagan', 'Yukon',\n",
              "       'CeCe', 'Cuddles', 'Claude', 'Jessiga', 'Carter', 'Ole', 'Pherb',\n",
              "       'Blipson', 'Reptar', 'Trevith', 'Berb', 'Bob', 'Colin', 'Brian',\n",
              "       'Oliviér', 'Grady', 'Kobe', 'Freddery', 'Bodie', 'Dunkin', 'Wally',\n",
              "       'Tupawc', 'Amber', 'Edgar', 'Teddy', 'Kingsley', 'Brockly',\n",
              "       'Richie', 'Molly', 'Vinscent', 'Cedrick', 'Hazel', 'Lolo', 'Eriq',\n",
              "       'Phred', 'the', 'Oddie', 'Maxwell', 'Geoff', 'Covach', 'Durg',\n",
              "       'Fynn', 'Ricky', 'Herald', 'Lucky', 'Ferg', 'Trip', 'Clarence',\n",
              "       'Hamrick', 'Brad', 'Pubert', 'Frönq', 'Derby', 'Lizzie', 'Ember',\n",
              "       'Blakely', 'Opal', 'Marq', 'Kramer', 'Barry', 'Gordon', 'Baxter',\n",
              "       'Mona', 'Horace', 'Crimson', 'Birf', 'Hammond', 'Lorelei', 'Marty',\n",
              "       'Brooks', 'Petrick', 'Hubertson', 'Gerbald', 'Oreo', 'Bruiser',\n",
              "       'Perry', 'Bobby', 'Jeph', 'Obi', 'Tino', 'Kulet', 'Sweets', 'Lupe',\n",
              "       'Tiger', 'Jiminy', 'Griffin', 'Banjo', 'Brandy', 'Lulu', 'Darrel',\n",
              "       'Taco', 'Joey', 'Patrick', 'Kreg', 'Todo', 'Tess', 'Ulysses',\n",
              "       'Toffee', 'Apollo', 'Asher', 'Glacier', 'Chuck', 'Champ', 'Ozzie',\n",
              "       'Griswold', 'Cheesy', 'Moofasa', 'Hector', 'Goliath', 'Kawhi',\n",
              "       'by', 'Emmie', 'Penelope', 'Willie', 'Rinna', 'Mike', 'William',\n",
              "       'Dwight', 'Evy', 'officially', 'Rascal', 'Linda', 'Tug', 'Tango',\n",
              "       'Grizz', 'Jerome', 'Crumpet', 'Jessifer', 'Izzy', 'Ralph', 'Sandy',\n",
              "       'Humphrey', 'Tassy', 'Juckson', 'Chuq', 'Tyrus', 'Karl',\n",
              "       'Godzilla', 'Vinnie', 'Kenneth', 'Herm', 'Bert', 'Striker',\n",
              "       'Donny', 'Pepper', 'Bernie', 'Buddah', 'Lenny', 'Arnold', 'Zuzu',\n",
              "       'Mollie', 'Laela', 'Tedders', 'Superpup', 'Rufio', 'Jeb', 'Rodman',\n",
              "       'Jonah', 'Chesney', 'life', 'Henry', 'Bobbay', 'Mitch', 'Kaiya',\n",
              "       'Acro', 'Aiden', 'Obie', 'Dot', 'Shnuggles', 'Kendall', 'Jeffri',\n",
              "       'Steve', 'Mac', 'Fletcher', 'Kenzie', 'Pumpkin', 'Schnozz',\n",
              "       'Gustaf', 'Cheryl', 'Ed', 'Leonidas', 'Norman', 'Caryl', 'Scott',\n",
              "       'Taz', 'Darby', 'Jackie', 'light', 'Jazz', 'Franq', 'Pippin',\n",
              "       'Rolf', 'Snickers', 'Ridley', 'Cal', 'Bradley', 'Bubba', 'Tuco',\n",
              "       'Patch', 'Mojo', 'Batdog', 'Dylan', 'space', 'Mark', 'JD',\n",
              "       'Alejandro', 'Scruffers', 'Pip', 'Julius', 'Tanner', 'Sparky',\n",
              "       'Anthony', 'Holly', 'Jett', 'Amy', 'Sage', 'Andy', 'Mason',\n",
              "       'Trigger', 'Antony', 'Creg', 'Traviss', 'Gin', 'Jeffrie', 'Danny',\n",
              "       'Ester', 'Pluto', 'Bloo', 'Edd', 'Willy', 'Herb', 'Damon',\n",
              "       'Peanut', 'Nigel', 'Butters', 'Sandra', 'Fabio', 'Randall', 'Liam',\n",
              "       'Tommy', 'Ben', 'Raphael', 'Julio', 'Andru', 'Kloey', 'Shawwn',\n",
              "       'Skye', 'Kollin', 'Ronduh', 'Billl', 'Saydee', 'Dug', 'Tessa',\n",
              "       'Sully', 'Kirk', 'Ralf', 'Clarq', 'Jaspers', 'Samsom', 'Harrison',\n",
              "       'Chaz', 'Jeremy', 'Jaycob', 'Lambeau', 'Ruffles', 'Amélie', 'Bobb',\n",
              "       'Banditt', 'Kevon', 'Winifred', 'Hanz', 'Churlie', 'Zeek',\n",
              "       'Timofy', 'Maks', 'Jomathan', 'Kallie', 'Marvin', 'Spark',\n",
              "       'Gòrdón', 'Jo', 'DayZ', 'Jareld', 'Torque', 'Ron', 'Skittles',\n",
              "       'Cleopatricia', 'Erik', 'Stu', 'Tedrick', 'Filup', 'Kial',\n",
              "       'Naphaniel', 'Dook', 'Hall', 'Philippe', 'Biden', 'Fwed',\n",
              "       'Genevieve', 'Joshwa', 'Bradlay', 'Clybe', 'Keet', 'Carll',\n",
              "       'Jockson', 'Josep', 'Lugan', 'Christoper'], dtype=object)"
            ]
          },
          "metadata": {
            "tags": []
          },
          "execution_count": 17
        }
      ]
    },
    {
      "cell_type": "code",
      "metadata": {
        "id": "xWUonSDnqlhH",
        "outputId": "d0b52931-322f-453b-89c3-2a77c8413d26",
        "colab": {
          "base_uri": "https://localhost:8080/",
          "height": 104
        }
      },
      "source": [
        "twitter_df[\"source\"].unique()"
      ],
      "execution_count": 18,
      "outputs": [
        {
          "output_type": "execute_result",
          "data": {
            "text/plain": [
              "array(['<a href=\"http://twitter.com/download/iphone\" rel=\"nofollow\">Twitter for iPhone</a>',\n",
              "       '<a href=\"http://twitter.com\" rel=\"nofollow\">Twitter Web Client</a>',\n",
              "       '<a href=\"http://vine.co\" rel=\"nofollow\">Vine - Make a Scene</a>',\n",
              "       '<a href=\"https://about.twitter.com/products/tweetdeck\" rel=\"nofollow\">TweetDeck</a>'],\n",
              "      dtype=object)"
            ]
          },
          "metadata": {
            "tags": []
          },
          "execution_count": 18
        }
      ]
    },
    {
      "cell_type": "markdown",
      "metadata": {
        "id": "NnwlRdzLjR3o"
      },
      "source": [
        "## Quality Issues\n",
        "- timestamp column is string not datetime.\n",
        "- We only want original ratings, not retweets or replies.\n",
        "- We do not need columns related to tweets and replies.\n",
        "- source column is not useful.\n",
        "- Dog stage is None instead of NaN\n",
        "- Some entries have more than one stage.\n",
        "- Some entries have invalid names. ('None', 'a', 'the', ...etc)\n",
        "\n",
        "## Tidiness Issues\n",
        "- There should be a column for the date and a column for the time.\n",
        "- The dog stage should be a single column (Each variable forms a column).\n",
        "- Rating should be a single column."
      ]
    },
    {
      "cell_type": "markdown",
      "metadata": {
        "id": "80jur07_BOn3"
      },
      "source": [
        "## Clean"
      ]
    },
    {
      "cell_type": "markdown",
      "metadata": {
        "id": "NhgO1jnOBs1q"
      },
      "source": [
        "### Convert timestamp column to datetime."
      ]
    },
    {
      "cell_type": "code",
      "metadata": {
        "id": "mm_87P3RBwwd"
      },
      "source": [
        "twitter_df[\"timestamp\"] = pd.to_datetime(twitter_df[\"timestamp\"])"
      ],
      "execution_count": 19,
      "outputs": []
    },
    {
      "cell_type": "code",
      "metadata": {
        "id": "lXcLXWijB8Vv",
        "outputId": "5639e096-8f68-4f46-cbb2-1b8d75eabe4c",
        "colab": {
          "base_uri": "https://localhost:8080/",
          "height": 434
        }
      },
      "source": [
        "twitter_df.info()"
      ],
      "execution_count": 20,
      "outputs": [
        {
          "output_type": "stream",
          "text": [
            "<class 'pandas.core.frame.DataFrame'>\n",
            "RangeIndex: 2356 entries, 0 to 2355\n",
            "Data columns (total 17 columns):\n",
            " #   Column                      Non-Null Count  Dtype              \n",
            "---  ------                      --------------  -----              \n",
            " 0   tweet_id                    2356 non-null   int64              \n",
            " 1   in_reply_to_status_id       78 non-null     float64            \n",
            " 2   in_reply_to_user_id         78 non-null     float64            \n",
            " 3   timestamp                   2356 non-null   datetime64[ns, UTC]\n",
            " 4   source                      2356 non-null   object             \n",
            " 5   text                        2356 non-null   object             \n",
            " 6   retweeted_status_id         181 non-null    float64            \n",
            " 7   retweeted_status_user_id    181 non-null    float64            \n",
            " 8   retweeted_status_timestamp  181 non-null    object             \n",
            " 9   expanded_urls               2297 non-null   object             \n",
            " 10  rating_numerator            2356 non-null   int64              \n",
            " 11  rating_denominator          2356 non-null   int64              \n",
            " 12  name                        2356 non-null   object             \n",
            " 13  doggo                       2356 non-null   object             \n",
            " 14  floofer                     2356 non-null   object             \n",
            " 15  pupper                      2356 non-null   object             \n",
            " 16  puppo                       2356 non-null   object             \n",
            "dtypes: datetime64[ns, UTC](1), float64(4), int64(3), object(9)\n",
            "memory usage: 313.0+ KB\n"
          ],
          "name": "stdout"
        }
      ]
    },
    {
      "cell_type": "markdown",
      "metadata": {
        "id": "W4VPJ7UbLTk2"
      },
      "source": [
        "### Split the timestamp column into a column for the date and a column for the time."
      ]
    },
    {
      "cell_type": "code",
      "metadata": {
        "id": "4TPtYWk5d4Uq"
      },
      "source": [
        "# Create date column\n",
        "twitter_df[\"date\"] = pd.to_datetime(twitter_df[\"timestamp\"]).dt.date\n",
        "# Create time column\n",
        "twitter_df[\"time\"] = pd.to_datetime(twitter_df[\"timestamp\"]).dt.time\n",
        "# Remove timestamp column\n",
        "twitter_df.drop(['timestamp'], axis=1, inplace=True)"
      ],
      "execution_count": 21,
      "outputs": []
    },
    {
      "cell_type": "code",
      "metadata": {
        "id": "8OytA6n2e2EQ",
        "outputId": "c873c6da-8cb4-4581-8518-f89049db9d92",
        "colab": {
          "base_uri": "https://localhost:8080/",
          "height": 591
        }
      },
      "source": [
        "twitter_df.head()"
      ],
      "execution_count": 22,
      "outputs": [
        {
          "output_type": "execute_result",
          "data": {
            "text/html": [
              "<div>\n",
              "<style scoped>\n",
              "    .dataframe tbody tr th:only-of-type {\n",
              "        vertical-align: middle;\n",
              "    }\n",
              "\n",
              "    .dataframe tbody tr th {\n",
              "        vertical-align: top;\n",
              "    }\n",
              "\n",
              "    .dataframe thead th {\n",
              "        text-align: right;\n",
              "    }\n",
              "</style>\n",
              "<table border=\"1\" class=\"dataframe\">\n",
              "  <thead>\n",
              "    <tr style=\"text-align: right;\">\n",
              "      <th></th>\n",
              "      <th>tweet_id</th>\n",
              "      <th>in_reply_to_status_id</th>\n",
              "      <th>in_reply_to_user_id</th>\n",
              "      <th>source</th>\n",
              "      <th>text</th>\n",
              "      <th>retweeted_status_id</th>\n",
              "      <th>retweeted_status_user_id</th>\n",
              "      <th>retweeted_status_timestamp</th>\n",
              "      <th>expanded_urls</th>\n",
              "      <th>rating_numerator</th>\n",
              "      <th>rating_denominator</th>\n",
              "      <th>name</th>\n",
              "      <th>doggo</th>\n",
              "      <th>floofer</th>\n",
              "      <th>pupper</th>\n",
              "      <th>puppo</th>\n",
              "      <th>date</th>\n",
              "      <th>time</th>\n",
              "    </tr>\n",
              "  </thead>\n",
              "  <tbody>\n",
              "    <tr>\n",
              "      <th>0</th>\n",
              "      <td>892420643555336193</td>\n",
              "      <td>NaN</td>\n",
              "      <td>NaN</td>\n",
              "      <td>&lt;a href=\"http://twitter.com/download/iphone\" r...</td>\n",
              "      <td>This is Phineas. He's a mystical boy. Only eve...</td>\n",
              "      <td>NaN</td>\n",
              "      <td>NaN</td>\n",
              "      <td>NaN</td>\n",
              "      <td>https://twitter.com/dog_rates/status/892420643...</td>\n",
              "      <td>13</td>\n",
              "      <td>10</td>\n",
              "      <td>Phineas</td>\n",
              "      <td>None</td>\n",
              "      <td>None</td>\n",
              "      <td>None</td>\n",
              "      <td>None</td>\n",
              "      <td>2017-08-01</td>\n",
              "      <td>16:23:56</td>\n",
              "    </tr>\n",
              "    <tr>\n",
              "      <th>1</th>\n",
              "      <td>892177421306343426</td>\n",
              "      <td>NaN</td>\n",
              "      <td>NaN</td>\n",
              "      <td>&lt;a href=\"http://twitter.com/download/iphone\" r...</td>\n",
              "      <td>This is Tilly. She's just checking pup on you....</td>\n",
              "      <td>NaN</td>\n",
              "      <td>NaN</td>\n",
              "      <td>NaN</td>\n",
              "      <td>https://twitter.com/dog_rates/status/892177421...</td>\n",
              "      <td>13</td>\n",
              "      <td>10</td>\n",
              "      <td>Tilly</td>\n",
              "      <td>None</td>\n",
              "      <td>None</td>\n",
              "      <td>None</td>\n",
              "      <td>None</td>\n",
              "      <td>2017-08-01</td>\n",
              "      <td>00:17:27</td>\n",
              "    </tr>\n",
              "    <tr>\n",
              "      <th>2</th>\n",
              "      <td>891815181378084864</td>\n",
              "      <td>NaN</td>\n",
              "      <td>NaN</td>\n",
              "      <td>&lt;a href=\"http://twitter.com/download/iphone\" r...</td>\n",
              "      <td>This is Archie. He is a rare Norwegian Pouncin...</td>\n",
              "      <td>NaN</td>\n",
              "      <td>NaN</td>\n",
              "      <td>NaN</td>\n",
              "      <td>https://twitter.com/dog_rates/status/891815181...</td>\n",
              "      <td>12</td>\n",
              "      <td>10</td>\n",
              "      <td>Archie</td>\n",
              "      <td>None</td>\n",
              "      <td>None</td>\n",
              "      <td>None</td>\n",
              "      <td>None</td>\n",
              "      <td>2017-07-31</td>\n",
              "      <td>00:18:03</td>\n",
              "    </tr>\n",
              "    <tr>\n",
              "      <th>3</th>\n",
              "      <td>891689557279858688</td>\n",
              "      <td>NaN</td>\n",
              "      <td>NaN</td>\n",
              "      <td>&lt;a href=\"http://twitter.com/download/iphone\" r...</td>\n",
              "      <td>This is Darla. She commenced a snooze mid meal...</td>\n",
              "      <td>NaN</td>\n",
              "      <td>NaN</td>\n",
              "      <td>NaN</td>\n",
              "      <td>https://twitter.com/dog_rates/status/891689557...</td>\n",
              "      <td>13</td>\n",
              "      <td>10</td>\n",
              "      <td>Darla</td>\n",
              "      <td>None</td>\n",
              "      <td>None</td>\n",
              "      <td>None</td>\n",
              "      <td>None</td>\n",
              "      <td>2017-07-30</td>\n",
              "      <td>15:58:51</td>\n",
              "    </tr>\n",
              "    <tr>\n",
              "      <th>4</th>\n",
              "      <td>891327558926688256</td>\n",
              "      <td>NaN</td>\n",
              "      <td>NaN</td>\n",
              "      <td>&lt;a href=\"http://twitter.com/download/iphone\" r...</td>\n",
              "      <td>This is Franklin. He would like you to stop ca...</td>\n",
              "      <td>NaN</td>\n",
              "      <td>NaN</td>\n",
              "      <td>NaN</td>\n",
              "      <td>https://twitter.com/dog_rates/status/891327558...</td>\n",
              "      <td>12</td>\n",
              "      <td>10</td>\n",
              "      <td>Franklin</td>\n",
              "      <td>None</td>\n",
              "      <td>None</td>\n",
              "      <td>None</td>\n",
              "      <td>None</td>\n",
              "      <td>2017-07-29</td>\n",
              "      <td>16:00:24</td>\n",
              "    </tr>\n",
              "  </tbody>\n",
              "</table>\n",
              "</div>"
            ],
            "text/plain": [
              "             tweet_id  in_reply_to_status_id  ...        date      time\n",
              "0  892420643555336193                    NaN  ...  2017-08-01  16:23:56\n",
              "1  892177421306343426                    NaN  ...  2017-08-01  00:17:27\n",
              "2  891815181378084864                    NaN  ...  2017-07-31  00:18:03\n",
              "3  891689557279858688                    NaN  ...  2017-07-30  15:58:51\n",
              "4  891327558926688256                    NaN  ...  2017-07-29  16:00:24\n",
              "\n",
              "[5 rows x 18 columns]"
            ]
          },
          "metadata": {
            "tags": []
          },
          "execution_count": 22
        }
      ]
    },
    {
      "cell_type": "markdown",
      "metadata": {
        "id": "OwlU9r-SFzC9"
      },
      "source": [
        "### Remove replies by keeping only rows where in_reply_to_status_id is Nan"
      ]
    },
    {
      "cell_type": "code",
      "metadata": {
        "id": "UIV1G6HbG5dR",
        "outputId": "5f62b7e8-4963-4ba1-f3a4-f46b5d5a459b",
        "colab": {
          "base_uri": "https://localhost:8080/",
          "height": 34
        }
      },
      "source": [
        "len(twitter_df[twitter_df[\"in_reply_to_status_id\"].notnull()])"
      ],
      "execution_count": 23,
      "outputs": [
        {
          "output_type": "execute_result",
          "data": {
            "text/plain": [
              "78"
            ]
          },
          "metadata": {
            "tags": []
          },
          "execution_count": 23
        }
      ]
    },
    {
      "cell_type": "code",
      "metadata": {
        "id": "9FByL58PF2fy"
      },
      "source": [
        "twitter_df = twitter_df[twitter_df[\"in_reply_to_status_id\"].isnull()]"
      ],
      "execution_count": 24,
      "outputs": []
    },
    {
      "cell_type": "code",
      "metadata": {
        "id": "xhh-M8JUGt91",
        "outputId": "09014cb2-efa1-4858-93ee-67ac247e76ea",
        "colab": {
          "base_uri": "https://localhost:8080/",
          "height": 34
        }
      },
      "source": [
        "len(twitter_df[twitter_df[\"in_reply_to_status_id\"].notnull()])"
      ],
      "execution_count": 25,
      "outputs": [
        {
          "output_type": "execute_result",
          "data": {
            "text/plain": [
              "0"
            ]
          },
          "metadata": {
            "tags": []
          },
          "execution_count": 25
        }
      ]
    },
    {
      "cell_type": "markdown",
      "metadata": {
        "id": "iuq2w05iHPWS"
      },
      "source": [
        "### Remove retweets by keeping only rows where retweeted_status_id is Nan"
      ]
    },
    {
      "cell_type": "code",
      "metadata": {
        "id": "EIGOBy0WH0XD",
        "outputId": "9cc83161-4f98-4438-add7-734abcbb3cfa",
        "colab": {
          "base_uri": "https://localhost:8080/",
          "height": 34
        }
      },
      "source": [
        "len(twitter_df[twitter_df[\"retweeted_status_id\"].notnull()])"
      ],
      "execution_count": 26,
      "outputs": [
        {
          "output_type": "execute_result",
          "data": {
            "text/plain": [
              "181"
            ]
          },
          "metadata": {
            "tags": []
          },
          "execution_count": 26
        }
      ]
    },
    {
      "cell_type": "code",
      "metadata": {
        "id": "CtpED137H48q"
      },
      "source": [
        "twitter_df = twitter_df[twitter_df[\"retweeted_status_id\"].isnull()]"
      ],
      "execution_count": 27,
      "outputs": []
    },
    {
      "cell_type": "code",
      "metadata": {
        "id": "fXFNc_A6H946",
        "outputId": "4237afb6-257e-4e93-ffd2-f81c2964daab",
        "colab": {
          "base_uri": "https://localhost:8080/",
          "height": 34
        }
      },
      "source": [
        "len(twitter_df[twitter_df[\"retweeted_status_id\"].notnull()])"
      ],
      "execution_count": 28,
      "outputs": [
        {
          "output_type": "execute_result",
          "data": {
            "text/plain": [
              "0"
            ]
          },
          "metadata": {
            "tags": []
          },
          "execution_count": 28
        }
      ]
    },
    {
      "cell_type": "markdown",
      "metadata": {
        "id": "cG6hG7O-IMF4"
      },
      "source": [
        "### Remove columns related to tweets and replies.\n",
        "### Remove source column"
      ]
    },
    {
      "cell_type": "code",
      "metadata": {
        "id": "vg-itFiMIOX3"
      },
      "source": [
        "twitter_df.drop(['in_reply_to_status_id', 'in_reply_to_user_id',\n",
        "                 'retweeted_status_id', 'retweeted_status_user_id',\n",
        "                 'retweeted_status_timestamp', 'source'], axis=1,\n",
        "                 inplace=True)"
      ],
      "execution_count": 29,
      "outputs": []
    },
    {
      "cell_type": "code",
      "metadata": {
        "id": "vFfnsDGFJF7q",
        "outputId": "77d25f6b-bbcd-4752-a704-e86d7b297ebf",
        "colab": {
          "base_uri": "https://localhost:8080/",
          "height": 86
        }
      },
      "source": [
        "twitter_df.columns"
      ],
      "execution_count": 30,
      "outputs": [
        {
          "output_type": "execute_result",
          "data": {
            "text/plain": [
              "Index(['tweet_id', 'text', 'expanded_urls', 'rating_numerator',\n",
              "       'rating_denominator', 'name', 'doggo', 'floofer', 'pupper', 'puppo',\n",
              "       'date', 'time'],\n",
              "      dtype='object')"
            ]
          },
          "metadata": {
            "tags": []
          },
          "execution_count": 30
        }
      ]
    },
    {
      "cell_type": "markdown",
      "metadata": {
        "id": "2cEj_iERKk3m"
      },
      "source": [
        "###  Dog stage is None instead of NaN"
      ]
    },
    {
      "cell_type": "code",
      "metadata": {
        "id": "XtCEK5XipHlt"
      },
      "source": [
        "twitter_df[[\"doggo\", \"floofer\", \"pupper\", \"puppo\"]] = twitter_df[[\"doggo\", \"floofer\", \"pupper\", \"puppo\"]].replace(to_replace=\"None\", value=np.nan)"
      ],
      "execution_count": 31,
      "outputs": []
    },
    {
      "cell_type": "code",
      "metadata": {
        "id": "zBiFbRxlrslq",
        "outputId": "17122794-f5b7-4740-d88e-83a588916595",
        "colab": {
          "base_uri": "https://localhost:8080/",
          "height": 206
        }
      },
      "source": [
        "twitter_df.head()"
      ],
      "execution_count": 32,
      "outputs": [
        {
          "output_type": "execute_result",
          "data": {
            "text/html": [
              "<div>\n",
              "<style scoped>\n",
              "    .dataframe tbody tr th:only-of-type {\n",
              "        vertical-align: middle;\n",
              "    }\n",
              "\n",
              "    .dataframe tbody tr th {\n",
              "        vertical-align: top;\n",
              "    }\n",
              "\n",
              "    .dataframe thead th {\n",
              "        text-align: right;\n",
              "    }\n",
              "</style>\n",
              "<table border=\"1\" class=\"dataframe\">\n",
              "  <thead>\n",
              "    <tr style=\"text-align: right;\">\n",
              "      <th></th>\n",
              "      <th>tweet_id</th>\n",
              "      <th>text</th>\n",
              "      <th>expanded_urls</th>\n",
              "      <th>rating_numerator</th>\n",
              "      <th>rating_denominator</th>\n",
              "      <th>name</th>\n",
              "      <th>doggo</th>\n",
              "      <th>floofer</th>\n",
              "      <th>pupper</th>\n",
              "      <th>puppo</th>\n",
              "      <th>date</th>\n",
              "      <th>time</th>\n",
              "    </tr>\n",
              "  </thead>\n",
              "  <tbody>\n",
              "    <tr>\n",
              "      <th>0</th>\n",
              "      <td>892420643555336193</td>\n",
              "      <td>This is Phineas. He's a mystical boy. Only eve...</td>\n",
              "      <td>https://twitter.com/dog_rates/status/892420643...</td>\n",
              "      <td>13</td>\n",
              "      <td>10</td>\n",
              "      <td>Phineas</td>\n",
              "      <td>NaN</td>\n",
              "      <td>NaN</td>\n",
              "      <td>NaN</td>\n",
              "      <td>NaN</td>\n",
              "      <td>2017-08-01</td>\n",
              "      <td>16:23:56</td>\n",
              "    </tr>\n",
              "    <tr>\n",
              "      <th>1</th>\n",
              "      <td>892177421306343426</td>\n",
              "      <td>This is Tilly. She's just checking pup on you....</td>\n",
              "      <td>https://twitter.com/dog_rates/status/892177421...</td>\n",
              "      <td>13</td>\n",
              "      <td>10</td>\n",
              "      <td>Tilly</td>\n",
              "      <td>NaN</td>\n",
              "      <td>NaN</td>\n",
              "      <td>NaN</td>\n",
              "      <td>NaN</td>\n",
              "      <td>2017-08-01</td>\n",
              "      <td>00:17:27</td>\n",
              "    </tr>\n",
              "    <tr>\n",
              "      <th>2</th>\n",
              "      <td>891815181378084864</td>\n",
              "      <td>This is Archie. He is a rare Norwegian Pouncin...</td>\n",
              "      <td>https://twitter.com/dog_rates/status/891815181...</td>\n",
              "      <td>12</td>\n",
              "      <td>10</td>\n",
              "      <td>Archie</td>\n",
              "      <td>NaN</td>\n",
              "      <td>NaN</td>\n",
              "      <td>NaN</td>\n",
              "      <td>NaN</td>\n",
              "      <td>2017-07-31</td>\n",
              "      <td>00:18:03</td>\n",
              "    </tr>\n",
              "    <tr>\n",
              "      <th>3</th>\n",
              "      <td>891689557279858688</td>\n",
              "      <td>This is Darla. She commenced a snooze mid meal...</td>\n",
              "      <td>https://twitter.com/dog_rates/status/891689557...</td>\n",
              "      <td>13</td>\n",
              "      <td>10</td>\n",
              "      <td>Darla</td>\n",
              "      <td>NaN</td>\n",
              "      <td>NaN</td>\n",
              "      <td>NaN</td>\n",
              "      <td>NaN</td>\n",
              "      <td>2017-07-30</td>\n",
              "      <td>15:58:51</td>\n",
              "    </tr>\n",
              "    <tr>\n",
              "      <th>4</th>\n",
              "      <td>891327558926688256</td>\n",
              "      <td>This is Franklin. He would like you to stop ca...</td>\n",
              "      <td>https://twitter.com/dog_rates/status/891327558...</td>\n",
              "      <td>12</td>\n",
              "      <td>10</td>\n",
              "      <td>Franklin</td>\n",
              "      <td>NaN</td>\n",
              "      <td>NaN</td>\n",
              "      <td>NaN</td>\n",
              "      <td>NaN</td>\n",
              "      <td>2017-07-29</td>\n",
              "      <td>16:00:24</td>\n",
              "    </tr>\n",
              "  </tbody>\n",
              "</table>\n",
              "</div>"
            ],
            "text/plain": [
              "             tweet_id  ...      time\n",
              "0  892420643555336193  ...  16:23:56\n",
              "1  892177421306343426  ...  00:17:27\n",
              "2  891815181378084864  ...  00:18:03\n",
              "3  891689557279858688  ...  15:58:51\n",
              "4  891327558926688256  ...  16:00:24\n",
              "\n",
              "[5 rows x 12 columns]"
            ]
          },
          "metadata": {
            "tags": []
          },
          "execution_count": 32
        }
      ]
    },
    {
      "cell_type": "markdown",
      "metadata": {
        "id": "zUUzbn9Y8OoJ"
      },
      "source": [
        "### Drop enteries with more than one stage."
      ]
    },
    {
      "cell_type": "code",
      "metadata": {
        "id": "WBNhgQK5nhen",
        "outputId": "a7c6c079-dc55-459d-e84e-54a3ccf13f68",
        "colab": {
          "base_uri": "https://localhost:8080/",
          "height": 394
        }
      },
      "source": [
        "twitter_df[twitter_df[[\"doggo\", \"floofer\", \"pupper\", \"puppo\"]].notnull().sum(axis=1) > 1]"
      ],
      "execution_count": 33,
      "outputs": [
        {
          "output_type": "execute_result",
          "data": {
            "text/html": [
              "<div>\n",
              "<style scoped>\n",
              "    .dataframe tbody tr th:only-of-type {\n",
              "        vertical-align: middle;\n",
              "    }\n",
              "\n",
              "    .dataframe tbody tr th {\n",
              "        vertical-align: top;\n",
              "    }\n",
              "\n",
              "    .dataframe thead th {\n",
              "        text-align: right;\n",
              "    }\n",
              "</style>\n",
              "<table border=\"1\" class=\"dataframe\">\n",
              "  <thead>\n",
              "    <tr style=\"text-align: right;\">\n",
              "      <th></th>\n",
              "      <th>tweet_id</th>\n",
              "      <th>text</th>\n",
              "      <th>expanded_urls</th>\n",
              "      <th>rating_numerator</th>\n",
              "      <th>rating_denominator</th>\n",
              "      <th>name</th>\n",
              "      <th>doggo</th>\n",
              "      <th>floofer</th>\n",
              "      <th>pupper</th>\n",
              "      <th>puppo</th>\n",
              "      <th>date</th>\n",
              "      <th>time</th>\n",
              "    </tr>\n",
              "  </thead>\n",
              "  <tbody>\n",
              "    <tr>\n",
              "      <th>191</th>\n",
              "      <td>855851453814013952</td>\n",
              "      <td>Here's a puppo participating in the #ScienceMa...</td>\n",
              "      <td>https://twitter.com/dog_rates/status/855851453...</td>\n",
              "      <td>13</td>\n",
              "      <td>10</td>\n",
              "      <td>None</td>\n",
              "      <td>doggo</td>\n",
              "      <td>NaN</td>\n",
              "      <td>NaN</td>\n",
              "      <td>puppo</td>\n",
              "      <td>2017-04-22</td>\n",
              "      <td>18:31:02</td>\n",
              "    </tr>\n",
              "    <tr>\n",
              "      <th>200</th>\n",
              "      <td>854010172552949760</td>\n",
              "      <td>At first I thought this was a shy doggo, but i...</td>\n",
              "      <td>https://twitter.com/dog_rates/status/854010172...</td>\n",
              "      <td>11</td>\n",
              "      <td>10</td>\n",
              "      <td>None</td>\n",
              "      <td>doggo</td>\n",
              "      <td>floofer</td>\n",
              "      <td>NaN</td>\n",
              "      <td>NaN</td>\n",
              "      <td>2017-04-17</td>\n",
              "      <td>16:34:26</td>\n",
              "    </tr>\n",
              "    <tr>\n",
              "      <th>460</th>\n",
              "      <td>817777686764523521</td>\n",
              "      <td>This is Dido. She's playing the lead role in \"...</td>\n",
              "      <td>https://twitter.com/dog_rates/status/817777686...</td>\n",
              "      <td>13</td>\n",
              "      <td>10</td>\n",
              "      <td>Dido</td>\n",
              "      <td>doggo</td>\n",
              "      <td>NaN</td>\n",
              "      <td>pupper</td>\n",
              "      <td>NaN</td>\n",
              "      <td>2017-01-07</td>\n",
              "      <td>16:59:28</td>\n",
              "    </tr>\n",
              "    <tr>\n",
              "      <th>531</th>\n",
              "      <td>808106460588765185</td>\n",
              "      <td>Here we have Burke (pupper) and Dexter (doggo)...</td>\n",
              "      <td>https://twitter.com/dog_rates/status/808106460...</td>\n",
              "      <td>12</td>\n",
              "      <td>10</td>\n",
              "      <td>None</td>\n",
              "      <td>doggo</td>\n",
              "      <td>NaN</td>\n",
              "      <td>pupper</td>\n",
              "      <td>NaN</td>\n",
              "      <td>2016-12-12</td>\n",
              "      <td>00:29:28</td>\n",
              "    </tr>\n",
              "    <tr>\n",
              "      <th>575</th>\n",
              "      <td>801115127852503040</td>\n",
              "      <td>This is Bones. He's being haunted by another d...</td>\n",
              "      <td>https://twitter.com/dog_rates/status/801115127...</td>\n",
              "      <td>12</td>\n",
              "      <td>10</td>\n",
              "      <td>Bones</td>\n",
              "      <td>doggo</td>\n",
              "      <td>NaN</td>\n",
              "      <td>pupper</td>\n",
              "      <td>NaN</td>\n",
              "      <td>2016-11-22</td>\n",
              "      <td>17:28:25</td>\n",
              "    </tr>\n",
              "    <tr>\n",
              "      <th>705</th>\n",
              "      <td>785639753186217984</td>\n",
              "      <td>This is Pinot. He's a sophisticated doggo. You...</td>\n",
              "      <td>https://twitter.com/dog_rates/status/785639753...</td>\n",
              "      <td>10</td>\n",
              "      <td>10</td>\n",
              "      <td>Pinot</td>\n",
              "      <td>doggo</td>\n",
              "      <td>NaN</td>\n",
              "      <td>pupper</td>\n",
              "      <td>NaN</td>\n",
              "      <td>2016-10-11</td>\n",
              "      <td>00:34:48</td>\n",
              "    </tr>\n",
              "    <tr>\n",
              "      <th>733</th>\n",
              "      <td>781308096455073793</td>\n",
              "      <td>Pupper butt 1, Doggo 0. Both 12/10 https://t.c...</td>\n",
              "      <td>https://vine.co/v/5rgu2Law2ut</td>\n",
              "      <td>12</td>\n",
              "      <td>10</td>\n",
              "      <td>None</td>\n",
              "      <td>doggo</td>\n",
              "      <td>NaN</td>\n",
              "      <td>pupper</td>\n",
              "      <td>NaN</td>\n",
              "      <td>2016-09-29</td>\n",
              "      <td>01:42:20</td>\n",
              "    </tr>\n",
              "    <tr>\n",
              "      <th>889</th>\n",
              "      <td>759793422261743616</td>\n",
              "      <td>Meet Maggie &amp;amp; Lila. Maggie is the doggo, L...</td>\n",
              "      <td>https://twitter.com/dog_rates/status/759793422...</td>\n",
              "      <td>12</td>\n",
              "      <td>10</td>\n",
              "      <td>Maggie</td>\n",
              "      <td>doggo</td>\n",
              "      <td>NaN</td>\n",
              "      <td>pupper</td>\n",
              "      <td>NaN</td>\n",
              "      <td>2016-07-31</td>\n",
              "      <td>16:50:42</td>\n",
              "    </tr>\n",
              "    <tr>\n",
              "      <th>956</th>\n",
              "      <td>751583847268179968</td>\n",
              "      <td>Please stop sending it pictures that don't eve...</td>\n",
              "      <td>https://twitter.com/dog_rates/status/751583847...</td>\n",
              "      <td>5</td>\n",
              "      <td>10</td>\n",
              "      <td>None</td>\n",
              "      <td>doggo</td>\n",
              "      <td>NaN</td>\n",
              "      <td>pupper</td>\n",
              "      <td>NaN</td>\n",
              "      <td>2016-07-09</td>\n",
              "      <td>01:08:47</td>\n",
              "    </tr>\n",
              "    <tr>\n",
              "      <th>1063</th>\n",
              "      <td>741067306818797568</td>\n",
              "      <td>This is just downright precious af. 12/10 for ...</td>\n",
              "      <td>https://twitter.com/dog_rates/status/741067306...</td>\n",
              "      <td>12</td>\n",
              "      <td>10</td>\n",
              "      <td>just</td>\n",
              "      <td>doggo</td>\n",
              "      <td>NaN</td>\n",
              "      <td>pupper</td>\n",
              "      <td>NaN</td>\n",
              "      <td>2016-06-10</td>\n",
              "      <td>00:39:48</td>\n",
              "    </tr>\n",
              "    <tr>\n",
              "      <th>1113</th>\n",
              "      <td>733109485275860992</td>\n",
              "      <td>Like father (doggo), like son (pupper). Both 1...</td>\n",
              "      <td>https://twitter.com/dog_rates/status/733109485...</td>\n",
              "      <td>12</td>\n",
              "      <td>10</td>\n",
              "      <td>None</td>\n",
              "      <td>doggo</td>\n",
              "      <td>NaN</td>\n",
              "      <td>pupper</td>\n",
              "      <td>NaN</td>\n",
              "      <td>2016-05-19</td>\n",
              "      <td>01:38:16</td>\n",
              "    </tr>\n",
              "  </tbody>\n",
              "</table>\n",
              "</div>"
            ],
            "text/plain": [
              "                tweet_id  ...      time\n",
              "191   855851453814013952  ...  18:31:02\n",
              "200   854010172552949760  ...  16:34:26\n",
              "460   817777686764523521  ...  16:59:28\n",
              "531   808106460588765185  ...  00:29:28\n",
              "575   801115127852503040  ...  17:28:25\n",
              "705   785639753186217984  ...  00:34:48\n",
              "733   781308096455073793  ...  01:42:20\n",
              "889   759793422261743616  ...  16:50:42\n",
              "956   751583847268179968  ...  01:08:47\n",
              "1063  741067306818797568  ...  00:39:48\n",
              "1113  733109485275860992  ...  01:38:16\n",
              "\n",
              "[11 rows x 12 columns]"
            ]
          },
          "metadata": {
            "tags": []
          },
          "execution_count": 33
        }
      ]
    },
    {
      "cell_type": "code",
      "metadata": {
        "id": "pzJssGBZrJzU"
      },
      "source": [
        "# Keep only rows where only one of doggo, floofer, pupper or puppo is nan\n",
        "twitter_df = twitter_df[twitter_df[[\"doggo\", \"floofer\", \"pupper\", \"puppo\"]].notnull().sum(axis=1) <= 1]"
      ],
      "execution_count": 34,
      "outputs": []
    },
    {
      "cell_type": "code",
      "metadata": {
        "id": "_RNS8lbS8_l2",
        "outputId": "e74c122b-2880-4c68-f89a-a9fa15a07b00",
        "colab": {
          "base_uri": "https://localhost:8080/",
          "height": 34
        }
      },
      "source": [
        "(twitter_df[[\"doggo\", \"floofer\", \"pupper\", \"puppo\"]].notnull().sum(axis=1) > 1).sum()"
      ],
      "execution_count": 35,
      "outputs": [
        {
          "output_type": "execute_result",
          "data": {
            "text/plain": [
              "0"
            ]
          },
          "metadata": {
            "tags": []
          },
          "execution_count": 35
        }
      ]
    },
    {
      "cell_type": "markdown",
      "metadata": {
        "id": "hyBb-c7fiITz"
      },
      "source": [
        "### Convert the dog stage to a single column"
      ]
    },
    {
      "cell_type": "code",
      "metadata": {
        "id": "O2qqJ8bu6XeQ"
      },
      "source": [
        "# Merge all stage columns into one\n",
        "# stage will have only one values since only at most one of them is nan\n",
        "twitter_df['stage'] = twitter_df[[\"doggo\", \"floofer\", \"pupper\", \"puppo\"]].apply(lambda x: ''.join(x.dropna().astype(str)), axis=1)\n",
        "# Some rows will have empty enteries so replace them with nan\n",
        "twitter_df['stage'] = twitter_df['stage'].replace('', np.nan)\n",
        "# Drop not needed columns\n",
        "twitter_df.drop([\"doggo\", \"floofer\", \"pupper\", \"puppo\"], axis=1, inplace=True)"
      ],
      "execution_count": 36,
      "outputs": []
    },
    {
      "cell_type": "code",
      "metadata": {
        "id": "Z9zuPC-K_BNo",
        "outputId": "e9bbca8a-6bb7-4dd4-d9b3-24816de0a30c",
        "colab": {
          "base_uri": "https://localhost:8080/",
          "height": 104
        }
      },
      "source": [
        "twitter_df[\"stage\"].value_counts()"
      ],
      "execution_count": 37,
      "outputs": [
        {
          "output_type": "execute_result",
          "data": {
            "text/plain": [
              "pupper     221\n",
              "doggo       72\n",
              "puppo       23\n",
              "floofer      9\n",
              "Name: stage, dtype: int64"
            ]
          },
          "metadata": {
            "tags": []
          },
          "execution_count": 37
        }
      ]
    },
    {
      "cell_type": "code",
      "metadata": {
        "id": "Nq7ilKR8_7rq",
        "outputId": "00b8900a-a226-46de-a83c-fbb88529934c",
        "colab": {
          "base_uri": "https://localhost:8080/",
          "height": 206
        }
      },
      "source": [
        "twitter_df.head()"
      ],
      "execution_count": 38,
      "outputs": [
        {
          "output_type": "execute_result",
          "data": {
            "text/html": [
              "<div>\n",
              "<style scoped>\n",
              "    .dataframe tbody tr th:only-of-type {\n",
              "        vertical-align: middle;\n",
              "    }\n",
              "\n",
              "    .dataframe tbody tr th {\n",
              "        vertical-align: top;\n",
              "    }\n",
              "\n",
              "    .dataframe thead th {\n",
              "        text-align: right;\n",
              "    }\n",
              "</style>\n",
              "<table border=\"1\" class=\"dataframe\">\n",
              "  <thead>\n",
              "    <tr style=\"text-align: right;\">\n",
              "      <th></th>\n",
              "      <th>tweet_id</th>\n",
              "      <th>text</th>\n",
              "      <th>expanded_urls</th>\n",
              "      <th>rating_numerator</th>\n",
              "      <th>rating_denominator</th>\n",
              "      <th>name</th>\n",
              "      <th>date</th>\n",
              "      <th>time</th>\n",
              "      <th>stage</th>\n",
              "    </tr>\n",
              "  </thead>\n",
              "  <tbody>\n",
              "    <tr>\n",
              "      <th>0</th>\n",
              "      <td>892420643555336193</td>\n",
              "      <td>This is Phineas. He's a mystical boy. Only eve...</td>\n",
              "      <td>https://twitter.com/dog_rates/status/892420643...</td>\n",
              "      <td>13</td>\n",
              "      <td>10</td>\n",
              "      <td>Phineas</td>\n",
              "      <td>2017-08-01</td>\n",
              "      <td>16:23:56</td>\n",
              "      <td>NaN</td>\n",
              "    </tr>\n",
              "    <tr>\n",
              "      <th>1</th>\n",
              "      <td>892177421306343426</td>\n",
              "      <td>This is Tilly. She's just checking pup on you....</td>\n",
              "      <td>https://twitter.com/dog_rates/status/892177421...</td>\n",
              "      <td>13</td>\n",
              "      <td>10</td>\n",
              "      <td>Tilly</td>\n",
              "      <td>2017-08-01</td>\n",
              "      <td>00:17:27</td>\n",
              "      <td>NaN</td>\n",
              "    </tr>\n",
              "    <tr>\n",
              "      <th>2</th>\n",
              "      <td>891815181378084864</td>\n",
              "      <td>This is Archie. He is a rare Norwegian Pouncin...</td>\n",
              "      <td>https://twitter.com/dog_rates/status/891815181...</td>\n",
              "      <td>12</td>\n",
              "      <td>10</td>\n",
              "      <td>Archie</td>\n",
              "      <td>2017-07-31</td>\n",
              "      <td>00:18:03</td>\n",
              "      <td>NaN</td>\n",
              "    </tr>\n",
              "    <tr>\n",
              "      <th>3</th>\n",
              "      <td>891689557279858688</td>\n",
              "      <td>This is Darla. She commenced a snooze mid meal...</td>\n",
              "      <td>https://twitter.com/dog_rates/status/891689557...</td>\n",
              "      <td>13</td>\n",
              "      <td>10</td>\n",
              "      <td>Darla</td>\n",
              "      <td>2017-07-30</td>\n",
              "      <td>15:58:51</td>\n",
              "      <td>NaN</td>\n",
              "    </tr>\n",
              "    <tr>\n",
              "      <th>4</th>\n",
              "      <td>891327558926688256</td>\n",
              "      <td>This is Franklin. He would like you to stop ca...</td>\n",
              "      <td>https://twitter.com/dog_rates/status/891327558...</td>\n",
              "      <td>12</td>\n",
              "      <td>10</td>\n",
              "      <td>Franklin</td>\n",
              "      <td>2017-07-29</td>\n",
              "      <td>16:00:24</td>\n",
              "      <td>NaN</td>\n",
              "    </tr>\n",
              "  </tbody>\n",
              "</table>\n",
              "</div>"
            ],
            "text/plain": [
              "             tweet_id  ... stage\n",
              "0  892420643555336193  ...   NaN\n",
              "1  892177421306343426  ...   NaN\n",
              "2  891815181378084864  ...   NaN\n",
              "3  891689557279858688  ...   NaN\n",
              "4  891327558926688256  ...   NaN\n",
              "\n",
              "[5 rows x 9 columns]"
            ]
          },
          "metadata": {
            "tags": []
          },
          "execution_count": 38
        }
      ]
    },
    {
      "cell_type": "markdown",
      "metadata": {
        "id": "yBi0a-isD6Z3"
      },
      "source": [
        "### Merge rating columns into a single column."
      ]
    },
    {
      "cell_type": "code",
      "metadata": {
        "id": "PpTVj2ZmEBOj"
      },
      "source": [
        "twitter_df['rating'] = twitter_df[[\"rating_numerator\", \"rating_denominator\"]].apply(lambda x: '/'.join(x.astype(str)), axis=1)"
      ],
      "execution_count": 39,
      "outputs": []
    },
    {
      "cell_type": "code",
      "metadata": {
        "id": "sjI8JAojF2v_"
      },
      "source": [
        "# Remove rating_numerator and rating_denominator columns\n",
        "twitter_df.drop(columns=[\"rating_numerator\", \"rating_denominator\"], inplace=True)"
      ],
      "execution_count": 40,
      "outputs": []
    },
    {
      "cell_type": "code",
      "metadata": {
        "id": "heRVX3uuFxYr",
        "outputId": "1b907f0d-6697-4ca4-9539-e8ceb29cb24a",
        "colab": {
          "base_uri": "https://localhost:8080/",
          "height": 206
        }
      },
      "source": [
        "twitter_df.head()"
      ],
      "execution_count": 41,
      "outputs": [
        {
          "output_type": "execute_result",
          "data": {
            "text/html": [
              "<div>\n",
              "<style scoped>\n",
              "    .dataframe tbody tr th:only-of-type {\n",
              "        vertical-align: middle;\n",
              "    }\n",
              "\n",
              "    .dataframe tbody tr th {\n",
              "        vertical-align: top;\n",
              "    }\n",
              "\n",
              "    .dataframe thead th {\n",
              "        text-align: right;\n",
              "    }\n",
              "</style>\n",
              "<table border=\"1\" class=\"dataframe\">\n",
              "  <thead>\n",
              "    <tr style=\"text-align: right;\">\n",
              "      <th></th>\n",
              "      <th>tweet_id</th>\n",
              "      <th>text</th>\n",
              "      <th>expanded_urls</th>\n",
              "      <th>name</th>\n",
              "      <th>date</th>\n",
              "      <th>time</th>\n",
              "      <th>stage</th>\n",
              "      <th>rating</th>\n",
              "    </tr>\n",
              "  </thead>\n",
              "  <tbody>\n",
              "    <tr>\n",
              "      <th>0</th>\n",
              "      <td>892420643555336193</td>\n",
              "      <td>This is Phineas. He's a mystical boy. Only eve...</td>\n",
              "      <td>https://twitter.com/dog_rates/status/892420643...</td>\n",
              "      <td>Phineas</td>\n",
              "      <td>2017-08-01</td>\n",
              "      <td>16:23:56</td>\n",
              "      <td>NaN</td>\n",
              "      <td>13/10</td>\n",
              "    </tr>\n",
              "    <tr>\n",
              "      <th>1</th>\n",
              "      <td>892177421306343426</td>\n",
              "      <td>This is Tilly. She's just checking pup on you....</td>\n",
              "      <td>https://twitter.com/dog_rates/status/892177421...</td>\n",
              "      <td>Tilly</td>\n",
              "      <td>2017-08-01</td>\n",
              "      <td>00:17:27</td>\n",
              "      <td>NaN</td>\n",
              "      <td>13/10</td>\n",
              "    </tr>\n",
              "    <tr>\n",
              "      <th>2</th>\n",
              "      <td>891815181378084864</td>\n",
              "      <td>This is Archie. He is a rare Norwegian Pouncin...</td>\n",
              "      <td>https://twitter.com/dog_rates/status/891815181...</td>\n",
              "      <td>Archie</td>\n",
              "      <td>2017-07-31</td>\n",
              "      <td>00:18:03</td>\n",
              "      <td>NaN</td>\n",
              "      <td>12/10</td>\n",
              "    </tr>\n",
              "    <tr>\n",
              "      <th>3</th>\n",
              "      <td>891689557279858688</td>\n",
              "      <td>This is Darla. She commenced a snooze mid meal...</td>\n",
              "      <td>https://twitter.com/dog_rates/status/891689557...</td>\n",
              "      <td>Darla</td>\n",
              "      <td>2017-07-30</td>\n",
              "      <td>15:58:51</td>\n",
              "      <td>NaN</td>\n",
              "      <td>13/10</td>\n",
              "    </tr>\n",
              "    <tr>\n",
              "      <th>4</th>\n",
              "      <td>891327558926688256</td>\n",
              "      <td>This is Franklin. He would like you to stop ca...</td>\n",
              "      <td>https://twitter.com/dog_rates/status/891327558...</td>\n",
              "      <td>Franklin</td>\n",
              "      <td>2017-07-29</td>\n",
              "      <td>16:00:24</td>\n",
              "      <td>NaN</td>\n",
              "      <td>12/10</td>\n",
              "    </tr>\n",
              "  </tbody>\n",
              "</table>\n",
              "</div>"
            ],
            "text/plain": [
              "             tweet_id  ... rating\n",
              "0  892420643555336193  ...  13/10\n",
              "1  892177421306343426  ...  13/10\n",
              "2  891815181378084864  ...  12/10\n",
              "3  891689557279858688  ...  13/10\n",
              "4  891327558926688256  ...  12/10\n",
              "\n",
              "[5 rows x 8 columns]"
            ]
          },
          "metadata": {
            "tags": []
          },
          "execution_count": 41
        }
      ]
    },
    {
      "cell_type": "markdown",
      "metadata": {
        "id": "Xk3mq1REwOe4"
      },
      "source": [
        "### Turn invalid dog names to nan (None, a, the, ...etc)"
      ]
    },
    {
      "cell_type": "code",
      "metadata": {
        "id": "Ctj-VSG3wlEk"
      },
      "source": [
        "twitter_df[\"name\"] = twitter_df[\"name\"].replace(to_replace=[\"None\", \"a\", \"the\"], value=np.nan)"
      ],
      "execution_count": 42,
      "outputs": []
    },
    {
      "cell_type": "code",
      "metadata": {
        "id": "S6YG8jP6srxI",
        "outputId": "d481fc2e-2e8d-432a-b831-4d2e9b369534",
        "colab": {
          "base_uri": "https://localhost:8080/",
          "height": 206
        }
      },
      "source": [
        "twitter_df.head()"
      ],
      "execution_count": 43,
      "outputs": [
        {
          "output_type": "execute_result",
          "data": {
            "text/html": [
              "<div>\n",
              "<style scoped>\n",
              "    .dataframe tbody tr th:only-of-type {\n",
              "        vertical-align: middle;\n",
              "    }\n",
              "\n",
              "    .dataframe tbody tr th {\n",
              "        vertical-align: top;\n",
              "    }\n",
              "\n",
              "    .dataframe thead th {\n",
              "        text-align: right;\n",
              "    }\n",
              "</style>\n",
              "<table border=\"1\" class=\"dataframe\">\n",
              "  <thead>\n",
              "    <tr style=\"text-align: right;\">\n",
              "      <th></th>\n",
              "      <th>tweet_id</th>\n",
              "      <th>text</th>\n",
              "      <th>expanded_urls</th>\n",
              "      <th>name</th>\n",
              "      <th>date</th>\n",
              "      <th>time</th>\n",
              "      <th>stage</th>\n",
              "      <th>rating</th>\n",
              "    </tr>\n",
              "  </thead>\n",
              "  <tbody>\n",
              "    <tr>\n",
              "      <th>0</th>\n",
              "      <td>892420643555336193</td>\n",
              "      <td>This is Phineas. He's a mystical boy. Only eve...</td>\n",
              "      <td>https://twitter.com/dog_rates/status/892420643...</td>\n",
              "      <td>Phineas</td>\n",
              "      <td>2017-08-01</td>\n",
              "      <td>16:23:56</td>\n",
              "      <td>NaN</td>\n",
              "      <td>13/10</td>\n",
              "    </tr>\n",
              "    <tr>\n",
              "      <th>1</th>\n",
              "      <td>892177421306343426</td>\n",
              "      <td>This is Tilly. She's just checking pup on you....</td>\n",
              "      <td>https://twitter.com/dog_rates/status/892177421...</td>\n",
              "      <td>Tilly</td>\n",
              "      <td>2017-08-01</td>\n",
              "      <td>00:17:27</td>\n",
              "      <td>NaN</td>\n",
              "      <td>13/10</td>\n",
              "    </tr>\n",
              "    <tr>\n",
              "      <th>2</th>\n",
              "      <td>891815181378084864</td>\n",
              "      <td>This is Archie. He is a rare Norwegian Pouncin...</td>\n",
              "      <td>https://twitter.com/dog_rates/status/891815181...</td>\n",
              "      <td>Archie</td>\n",
              "      <td>2017-07-31</td>\n",
              "      <td>00:18:03</td>\n",
              "      <td>NaN</td>\n",
              "      <td>12/10</td>\n",
              "    </tr>\n",
              "    <tr>\n",
              "      <th>3</th>\n",
              "      <td>891689557279858688</td>\n",
              "      <td>This is Darla. She commenced a snooze mid meal...</td>\n",
              "      <td>https://twitter.com/dog_rates/status/891689557...</td>\n",
              "      <td>Darla</td>\n",
              "      <td>2017-07-30</td>\n",
              "      <td>15:58:51</td>\n",
              "      <td>NaN</td>\n",
              "      <td>13/10</td>\n",
              "    </tr>\n",
              "    <tr>\n",
              "      <th>4</th>\n",
              "      <td>891327558926688256</td>\n",
              "      <td>This is Franklin. He would like you to stop ca...</td>\n",
              "      <td>https://twitter.com/dog_rates/status/891327558...</td>\n",
              "      <td>Franklin</td>\n",
              "      <td>2017-07-29</td>\n",
              "      <td>16:00:24</td>\n",
              "      <td>NaN</td>\n",
              "      <td>12/10</td>\n",
              "    </tr>\n",
              "  </tbody>\n",
              "</table>\n",
              "</div>"
            ],
            "text/plain": [
              "             tweet_id  ... rating\n",
              "0  892420643555336193  ...  13/10\n",
              "1  892177421306343426  ...  13/10\n",
              "2  891815181378084864  ...  12/10\n",
              "3  891689557279858688  ...  13/10\n",
              "4  891327558926688256  ...  12/10\n",
              "\n",
              "[5 rows x 8 columns]"
            ]
          },
          "metadata": {
            "tags": []
          },
          "execution_count": 43
        }
      ]
    },
    {
      "cell_type": "markdown",
      "metadata": {
        "id": "T3PofFVMBaxl"
      },
      "source": [
        "## Predictions Dataframe"
      ]
    },
    {
      "cell_type": "code",
      "metadata": {
        "id": "mBpoavGUFlew",
        "outputId": "c3b7795a-047f-477a-d6d8-d62f0f7bfe31",
        "colab": {
          "base_uri": "https://localhost:8080/",
          "height": 206
        }
      },
      "source": [
        "predicitions_df.head()"
      ],
      "execution_count": 44,
      "outputs": [
        {
          "output_type": "execute_result",
          "data": {
            "text/html": [
              "<div>\n",
              "<style scoped>\n",
              "    .dataframe tbody tr th:only-of-type {\n",
              "        vertical-align: middle;\n",
              "    }\n",
              "\n",
              "    .dataframe tbody tr th {\n",
              "        vertical-align: top;\n",
              "    }\n",
              "\n",
              "    .dataframe thead th {\n",
              "        text-align: right;\n",
              "    }\n",
              "</style>\n",
              "<table border=\"1\" class=\"dataframe\">\n",
              "  <thead>\n",
              "    <tr style=\"text-align: right;\">\n",
              "      <th></th>\n",
              "      <th>tweet_id</th>\n",
              "      <th>jpg_url</th>\n",
              "      <th>img_num</th>\n",
              "      <th>p1</th>\n",
              "      <th>p1_conf</th>\n",
              "      <th>p1_dog</th>\n",
              "      <th>p2</th>\n",
              "      <th>p2_conf</th>\n",
              "      <th>p2_dog</th>\n",
              "      <th>p3</th>\n",
              "      <th>p3_conf</th>\n",
              "      <th>p3_dog</th>\n",
              "    </tr>\n",
              "  </thead>\n",
              "  <tbody>\n",
              "    <tr>\n",
              "      <th>0</th>\n",
              "      <td>666020888022790149</td>\n",
              "      <td>https://pbs.twimg.com/media/CT4udn0WwAA0aMy.jpg</td>\n",
              "      <td>1</td>\n",
              "      <td>Welsh_springer_spaniel</td>\n",
              "      <td>0.465074</td>\n",
              "      <td>True</td>\n",
              "      <td>collie</td>\n",
              "      <td>0.156665</td>\n",
              "      <td>True</td>\n",
              "      <td>Shetland_sheepdog</td>\n",
              "      <td>0.061428</td>\n",
              "      <td>True</td>\n",
              "    </tr>\n",
              "    <tr>\n",
              "      <th>1</th>\n",
              "      <td>666029285002620928</td>\n",
              "      <td>https://pbs.twimg.com/media/CT42GRgUYAA5iDo.jpg</td>\n",
              "      <td>1</td>\n",
              "      <td>redbone</td>\n",
              "      <td>0.506826</td>\n",
              "      <td>True</td>\n",
              "      <td>miniature_pinscher</td>\n",
              "      <td>0.074192</td>\n",
              "      <td>True</td>\n",
              "      <td>Rhodesian_ridgeback</td>\n",
              "      <td>0.072010</td>\n",
              "      <td>True</td>\n",
              "    </tr>\n",
              "    <tr>\n",
              "      <th>2</th>\n",
              "      <td>666033412701032449</td>\n",
              "      <td>https://pbs.twimg.com/media/CT4521TWwAEvMyu.jpg</td>\n",
              "      <td>1</td>\n",
              "      <td>German_shepherd</td>\n",
              "      <td>0.596461</td>\n",
              "      <td>True</td>\n",
              "      <td>malinois</td>\n",
              "      <td>0.138584</td>\n",
              "      <td>True</td>\n",
              "      <td>bloodhound</td>\n",
              "      <td>0.116197</td>\n",
              "      <td>True</td>\n",
              "    </tr>\n",
              "    <tr>\n",
              "      <th>3</th>\n",
              "      <td>666044226329800704</td>\n",
              "      <td>https://pbs.twimg.com/media/CT5Dr8HUEAA-lEu.jpg</td>\n",
              "      <td>1</td>\n",
              "      <td>Rhodesian_ridgeback</td>\n",
              "      <td>0.408143</td>\n",
              "      <td>True</td>\n",
              "      <td>redbone</td>\n",
              "      <td>0.360687</td>\n",
              "      <td>True</td>\n",
              "      <td>miniature_pinscher</td>\n",
              "      <td>0.222752</td>\n",
              "      <td>True</td>\n",
              "    </tr>\n",
              "    <tr>\n",
              "      <th>4</th>\n",
              "      <td>666049248165822465</td>\n",
              "      <td>https://pbs.twimg.com/media/CT5IQmsXIAAKY4A.jpg</td>\n",
              "      <td>1</td>\n",
              "      <td>miniature_pinscher</td>\n",
              "      <td>0.560311</td>\n",
              "      <td>True</td>\n",
              "      <td>Rottweiler</td>\n",
              "      <td>0.243682</td>\n",
              "      <td>True</td>\n",
              "      <td>Doberman</td>\n",
              "      <td>0.154629</td>\n",
              "      <td>True</td>\n",
              "    </tr>\n",
              "  </tbody>\n",
              "</table>\n",
              "</div>"
            ],
            "text/plain": [
              "             tweet_id  ... p3_dog\n",
              "0  666020888022790149  ...   True\n",
              "1  666029285002620928  ...   True\n",
              "2  666033412701032449  ...   True\n",
              "3  666044226329800704  ...   True\n",
              "4  666049248165822465  ...   True\n",
              "\n",
              "[5 rows x 12 columns]"
            ]
          },
          "metadata": {
            "tags": []
          },
          "execution_count": 44
        }
      ]
    },
    {
      "cell_type": "code",
      "metadata": {
        "id": "46Vm1BOSFw90",
        "outputId": "94b49b96-c58a-40ae-a49e-44c6e0efeeb3",
        "colab": {
          "base_uri": "https://localhost:8080/",
          "height": 347
        }
      },
      "source": [
        "predicitions_df.info()"
      ],
      "execution_count": 45,
      "outputs": [
        {
          "output_type": "stream",
          "text": [
            "<class 'pandas.core.frame.DataFrame'>\n",
            "RangeIndex: 2075 entries, 0 to 2074\n",
            "Data columns (total 12 columns):\n",
            " #   Column    Non-Null Count  Dtype  \n",
            "---  ------    --------------  -----  \n",
            " 0   tweet_id  2075 non-null   int64  \n",
            " 1   jpg_url   2075 non-null   object \n",
            " 2   img_num   2075 non-null   int64  \n",
            " 3   p1        2075 non-null   object \n",
            " 4   p1_conf   2075 non-null   float64\n",
            " 5   p1_dog    2075 non-null   bool   \n",
            " 6   p2        2075 non-null   object \n",
            " 7   p2_conf   2075 non-null   float64\n",
            " 8   p2_dog    2075 non-null   bool   \n",
            " 9   p3        2075 non-null   object \n",
            " 10  p3_conf   2075 non-null   float64\n",
            " 11  p3_dog    2075 non-null   bool   \n",
            "dtypes: bool(3), float64(3), int64(2), object(4)\n",
            "memory usage: 152.1+ KB\n"
          ],
          "name": "stdout"
        }
      ]
    },
    {
      "cell_type": "code",
      "metadata": {
        "id": "5eK8HdRTF50x",
        "outputId": "5b22b120-95e2-453d-b07f-1e52d74f137f",
        "colab": {
          "base_uri": "https://localhost:8080/",
          "height": 300
        }
      },
      "source": [
        "predicitions_df.describe()"
      ],
      "execution_count": 46,
      "outputs": [
        {
          "output_type": "execute_result",
          "data": {
            "text/html": [
              "<div>\n",
              "<style scoped>\n",
              "    .dataframe tbody tr th:only-of-type {\n",
              "        vertical-align: middle;\n",
              "    }\n",
              "\n",
              "    .dataframe tbody tr th {\n",
              "        vertical-align: top;\n",
              "    }\n",
              "\n",
              "    .dataframe thead th {\n",
              "        text-align: right;\n",
              "    }\n",
              "</style>\n",
              "<table border=\"1\" class=\"dataframe\">\n",
              "  <thead>\n",
              "    <tr style=\"text-align: right;\">\n",
              "      <th></th>\n",
              "      <th>tweet_id</th>\n",
              "      <th>img_num</th>\n",
              "      <th>p1_conf</th>\n",
              "      <th>p2_conf</th>\n",
              "      <th>p3_conf</th>\n",
              "    </tr>\n",
              "  </thead>\n",
              "  <tbody>\n",
              "    <tr>\n",
              "      <th>count</th>\n",
              "      <td>2.075000e+03</td>\n",
              "      <td>2075.000000</td>\n",
              "      <td>2075.000000</td>\n",
              "      <td>2.075000e+03</td>\n",
              "      <td>2.075000e+03</td>\n",
              "    </tr>\n",
              "    <tr>\n",
              "      <th>mean</th>\n",
              "      <td>7.384514e+17</td>\n",
              "      <td>1.203855</td>\n",
              "      <td>0.594548</td>\n",
              "      <td>1.345886e-01</td>\n",
              "      <td>6.032417e-02</td>\n",
              "    </tr>\n",
              "    <tr>\n",
              "      <th>std</th>\n",
              "      <td>6.785203e+16</td>\n",
              "      <td>0.561875</td>\n",
              "      <td>0.271174</td>\n",
              "      <td>1.006657e-01</td>\n",
              "      <td>5.090593e-02</td>\n",
              "    </tr>\n",
              "    <tr>\n",
              "      <th>min</th>\n",
              "      <td>6.660209e+17</td>\n",
              "      <td>1.000000</td>\n",
              "      <td>0.044333</td>\n",
              "      <td>1.011300e-08</td>\n",
              "      <td>1.740170e-10</td>\n",
              "    </tr>\n",
              "    <tr>\n",
              "      <th>25%</th>\n",
              "      <td>6.764835e+17</td>\n",
              "      <td>1.000000</td>\n",
              "      <td>0.364412</td>\n",
              "      <td>5.388625e-02</td>\n",
              "      <td>1.622240e-02</td>\n",
              "    </tr>\n",
              "    <tr>\n",
              "      <th>50%</th>\n",
              "      <td>7.119988e+17</td>\n",
              "      <td>1.000000</td>\n",
              "      <td>0.588230</td>\n",
              "      <td>1.181810e-01</td>\n",
              "      <td>4.944380e-02</td>\n",
              "    </tr>\n",
              "    <tr>\n",
              "      <th>75%</th>\n",
              "      <td>7.932034e+17</td>\n",
              "      <td>1.000000</td>\n",
              "      <td>0.843855</td>\n",
              "      <td>1.955655e-01</td>\n",
              "      <td>9.180755e-02</td>\n",
              "    </tr>\n",
              "    <tr>\n",
              "      <th>max</th>\n",
              "      <td>8.924206e+17</td>\n",
              "      <td>4.000000</td>\n",
              "      <td>1.000000</td>\n",
              "      <td>4.880140e-01</td>\n",
              "      <td>2.734190e-01</td>\n",
              "    </tr>\n",
              "  </tbody>\n",
              "</table>\n",
              "</div>"
            ],
            "text/plain": [
              "           tweet_id      img_num      p1_conf       p2_conf       p3_conf\n",
              "count  2.075000e+03  2075.000000  2075.000000  2.075000e+03  2.075000e+03\n",
              "mean   7.384514e+17     1.203855     0.594548  1.345886e-01  6.032417e-02\n",
              "std    6.785203e+16     0.561875     0.271174  1.006657e-01  5.090593e-02\n",
              "min    6.660209e+17     1.000000     0.044333  1.011300e-08  1.740170e-10\n",
              "25%    6.764835e+17     1.000000     0.364412  5.388625e-02  1.622240e-02\n",
              "50%    7.119988e+17     1.000000     0.588230  1.181810e-01  4.944380e-02\n",
              "75%    7.932034e+17     1.000000     0.843855  1.955655e-01  9.180755e-02\n",
              "max    8.924206e+17     4.000000     1.000000  4.880140e-01  2.734190e-01"
            ]
          },
          "metadata": {
            "tags": []
          },
          "execution_count": 46
        }
      ]
    },
    {
      "cell_type": "code",
      "metadata": {
        "id": "2yPKYOntmLP3",
        "outputId": "604c8ed6-ba3d-418e-bf28-aaa86a4997b2",
        "colab": {
          "base_uri": "https://localhost:8080/",
          "height": 1000
        }
      },
      "source": [
        "predicitions_df[\"p1\"].unique()"
      ],
      "execution_count": 47,
      "outputs": [
        {
          "output_type": "execute_result",
          "data": {
            "text/plain": [
              "array(['Welsh_springer_spaniel', 'redbone', 'German_shepherd',\n",
              "       'Rhodesian_ridgeback', 'miniature_pinscher',\n",
              "       'Bernese_mountain_dog', 'box_turtle', 'chow', 'shopping_cart',\n",
              "       'miniature_poodle', 'golden_retriever', 'Gordon_setter',\n",
              "       'Walker_hound', 'pug', 'bloodhound', 'Lhasa', 'English_setter',\n",
              "       'hen', 'desktop_computer', 'Italian_greyhound', 'Maltese_dog',\n",
              "       'three-toed_sloth', 'ox', 'malamute', 'guinea_pig',\n",
              "       'soft-coated_wheaten_terrier', 'Chihuahua',\n",
              "       'black-and-tan_coonhound', 'coho', 'toy_terrier',\n",
              "       'Blenheim_spaniel', 'Pembroke', 'llama',\n",
              "       'Chesapeake_Bay_retriever', 'curly-coated_retriever', 'dalmatian',\n",
              "       'Ibizan_hound', 'Border_collie', 'Labrador_retriever', 'seat_belt',\n",
              "       'snail', 'miniature_schnauzer', 'Airedale', 'triceratops', 'swab',\n",
              "       'hay', 'hyena', 'jigsaw_puzzle', 'West_Highland_white_terrier',\n",
              "       'toy_poodle', 'giant_schnauzer', 'vizsla', 'vacuum', 'Rottweiler',\n",
              "       'Siberian_husky', 'teddy', 'papillon', 'Saint_Bernard',\n",
              "       'porcupine', 'goose', 'Tibetan_terrier', 'borzoi', 'beagle',\n",
              "       'hare', 'Yorkshire_terrier', 'Pomeranian', 'electric_fan',\n",
              "       'web_site', 'ibex', 'kuvasz', 'fire_engine', 'lorikeet',\n",
              "       'flat-coated_retriever', 'toyshop', 'common_iguana',\n",
              "       'Norwegian_elkhound', 'frilled_lizard', 'leatherback_turtle',\n",
              "       'hamster', 'Angora', 'Arctic_fox', 'trombone', 'canoe',\n",
              "       'king_penguin', 'shopping_basket', 'standard_poodle',\n",
              "       'Staffordshire_bullterrier', 'basenji', 'Lakeland_terrier',\n",
              "       'American_Staffordshire_terrier', 'bearskin', 'Shih-Tzu',\n",
              "       'bustard', 'crash_helmet', 'French_bulldog', 'Pekinese',\n",
              "       'komondor', 'ski_mask', 'malinois', 'kelpie', 'Brittany_spaniel',\n",
              "       'cocker_spaniel', 'shower_curtain', 'basset', 'jellyfish',\n",
              "       'doormat', 'Arabian_camel', 'lynx', 'hog', 'comic_book', 'minivan',\n",
              "       'seashore', 'cuirass', 'Brabancon_griffon', 'candle', 'Eskimo_dog',\n",
              "       'weasel', 'Christmas_stocking', 'washbasin', 'car_mirror',\n",
              "       'piggy_bank', 'pot', 'boathouse', 'mud_turtle',\n",
              "       'German_short-haired_pointer', 'Shetland_sheepdog',\n",
              "       'Irish_terrier', 'cairn', 'platypus', 'English_springer',\n",
              "       'whippet', 'ping-pong_ball', 'sea_urchin', 'bow_tie',\n",
              "       'window_shade', \"jack-o'-lantern\", 'sorrel', 'Sussex_spaniel',\n",
              "       'peacock', 'axolotl', 'wool', 'banana', 'Dandie_Dinmont',\n",
              "       'Norwich_terrier', 'wood_rabbit', 'dhole', 'keeshond',\n",
              "       'Norfolk_terrier', 'lacewing', 'dingo', 'brown_bear',\n",
              "       'Old_English_sheepdog', 'scorpion', 'flamingo', 'microphone',\n",
              "       'Samoyed', 'pitcher', 'African_hunting_dog', 'refrigerator',\n",
              "       'picket_fence', 'tub', 'zebra', 'hermit_crab', 'swing', 'Doberman',\n",
              "       'park_bench', 'feather_boa', 'Loafer', 'stone_wall', 'ice_bear',\n",
              "       'prayer_rug', 'chimpanzee', 'china_cabinet', 'bee_eater',\n",
              "       'tennis_ball', 'carton', 'killer_whale', 'ostrich', 'terrapin',\n",
              "       'Siamese_cat', 'gondola', 'Great_Pyrenees', 'microwave',\n",
              "       'starfish', 'sandbar', 'tusker', 'motor_scooter', 'ram',\n",
              "       'leaf_beetle', 'wombat', 'schipperke', 'Newfoundland',\n",
              "       'bull_mastiff', 'water_bottle', 'suit', 'toilet_seat', 'collie',\n",
              "       'robin', 'Cardigan', 'Greater_Swiss_Mountain_dog', 'slug',\n",
              "       'toilet_tissue', 'acorn_squash', 'soccer_ball',\n",
              "       'African_crocodile', 'tick', 'ocarina', 'boxer', 'street_sign',\n",
              "       'bow', 'stove', 'paper_towel', 'upright', 'dough',\n",
              "       'Scottish_deerhound', 'bath_towel', 'standard_schnauzer',\n",
              "       'walking_stick', 'Irish_water_spaniel', 'bubble', 'Boston_bull',\n",
              "       'book_jacket', 'rain_barrel', 'black-footed_ferret', 'guenon',\n",
              "       'Japanese_spaniel', 'water_buffalo', 'patio', 'cowboy_hat',\n",
              "       'dogsled', 'maze', 'harp', 'panpipe', 'cash_machine', 'mailbox',\n",
              "       'wallaby', 'EntleBucher', 'earthstar', 'pillow', 'bluetick',\n",
              "       'space_heater', 'carousel', 'Irish_setter', 'birdhouse', 'snorkel',\n",
              "       'bald_eagle', 'koala', 'Leonberg', 'cheetah', 'minibus',\n",
              "       'Weimaraner', 'clog', 'dishwasher', 'white_wolf', 'sliding_door',\n",
              "       'damselfly', 'Great_Dane', 'Tibetan_mastiff', 'cheeseburger',\n",
              "       'fiddler_crab', 'bannister', 'crane', 'Scotch_terrier',\n",
              "       'snowmobile', 'badger', 'bighorn', 'geyser', 'barrow', 'bison',\n",
              "       'Mexican_hairless', 'ice_lolly', 'sea_lion', 'dining_table',\n",
              "       'groenendael', 'Australian_terrier', 'beaver', 'briard',\n",
              "       'Appenzeller', 'grey_fox', 'mousetrap', 'hippopotamus',\n",
              "       'Border_terrier', 'hummingbird', 'tailed_frog', 'otter',\n",
              "       'Egyptian_cat', 'four-poster', 'wild_boar', 'bathtub', 'agama',\n",
              "       'muzzle', 'hotdog', 'bib', 'espresso', 'timber_wolf', 'meerkat',\n",
              "       'nail', 'hammer', 'home_theater', 'alp', 'bonnet', 'handkerchief',\n",
              "       'hand_blower', 'polecat', 'lakeside', 'studio_couch', 'cup',\n",
              "       'cliff', 'Bedlington_terrier', 'lawn_mower', 'balloon',\n",
              "       'sunglasses', 'rapeseed', 'traffic_light', 'coil', 'binoculars',\n",
              "       'paddle', 'tiger_shark', 'sulphur-crested_cockatoo',\n",
              "       'wire-haired_fox_terrier', 'Saluki', 'American_black_bear',\n",
              "       'rotisserie', 'conch', 'skunk', 'bookshop', 'radio_telescope',\n",
              "       'cougar', 'African_grey', 'coral_reef', 'lion', 'maillot',\n",
              "       'Madagascar_cat', 'tabby', 'silky_terrier', 'giant_panda',\n",
              "       'long-horned_beetle', 'Afghan_hound', 'clumber', 'sundial',\n",
              "       'padlock', 'pool_table', 'quilt', 'beach_wagon', 'remote_control',\n",
              "       'bakery', 'pedestal', 'gas_pump', 'bookcase', 'shield', 'loupe',\n",
              "       'restaurant', 'prison', 'school_bus', 'cowboy_boot', 'jersey',\n",
              "       'wooden_spoon', 'leopard', 'mortarboard', 'teapot',\n",
              "       'military_uniform', 'washer', 'coffee_mug', 'fountain',\n",
              "       'pencil_box', 'barbell', 'grille', 'revolver', 'envelope',\n",
              "       'syringe', 'marmot', 'pole', 'laptop', 'basketball', 'tricycle',\n",
              "       'convertible', 'limousine', 'orange'], dtype=object)"
            ]
          },
          "metadata": {
            "tags": []
          },
          "execution_count": 47
        }
      ]
    },
    {
      "cell_type": "markdown",
      "metadata": {
        "id": "Ls8ZmBpWl_nh"
      },
      "source": [
        "### Quality Issues\n",
        "- Entries where the highest confidence is non-dog should be removed.\n",
        "- Dog breed name should be titled a seperated using spaces.\n",
        "\n",
        "## Tidiness Issues\n",
        "- The dog breed should be a single column."
      ]
    },
    {
      "cell_type": "markdown",
      "metadata": {
        "id": "euflE-WiIobZ"
      },
      "source": [
        "### Remove entries where the highest confidence is non-dog.\n",
        "### Turn the dog breed into a single column"
      ]
    },
    {
      "cell_type": "code",
      "metadata": {
        "id": "r1-N1H1WdBtd"
      },
      "source": [
        "# Get the highest confidence of each row\n",
        "max_conf = predicitions_df[[\"p1_conf\", \"p2_conf\", \"p3_conf\"]].idxmax(axis=1)\n",
        "# Check if the highest confidence of each row is a dog\n",
        "is_dog = max_conf.str.split(\"_\").apply(lambda x: x[0] + \"_dog\")\n",
        "# Create a column with the type of the highest confidence\n",
        "max_breed = max_conf.str.split(\"_\").apply(lambda x: x[0])\n",
        "predicitions_df[\"breed\"] = predicitions_df.lookup(max_breed.index, max_breed.values)\n",
        "# Keep only rows where the highest confidence is a dog\n",
        "predicitions_df = predicitions_df[predicitions_df.lookup(is_dog.index, is_dog.values)]\n",
        "# Remove not needed columns\n",
        "predicitions_df.drop(['p1', 'p1_conf', 'p1_dog',\n",
        "                      'p2', 'p2_conf', 'p2_dog',\n",
        "                      'p3', 'p3_conf', 'p3_dog'], axis=1,\n",
        "                       inplace=True)"
      ],
      "execution_count": 48,
      "outputs": []
    },
    {
      "cell_type": "code",
      "metadata": {
        "id": "ABboQNF2kYlU",
        "outputId": "e92687b2-8750-4a5f-c022-f22c706a23a8",
        "colab": {
          "base_uri": "https://localhost:8080/",
          "height": 206
        }
      },
      "source": [
        "predicitions_df.head()"
      ],
      "execution_count": 49,
      "outputs": [
        {
          "output_type": "execute_result",
          "data": {
            "text/html": [
              "<div>\n",
              "<style scoped>\n",
              "    .dataframe tbody tr th:only-of-type {\n",
              "        vertical-align: middle;\n",
              "    }\n",
              "\n",
              "    .dataframe tbody tr th {\n",
              "        vertical-align: top;\n",
              "    }\n",
              "\n",
              "    .dataframe thead th {\n",
              "        text-align: right;\n",
              "    }\n",
              "</style>\n",
              "<table border=\"1\" class=\"dataframe\">\n",
              "  <thead>\n",
              "    <tr style=\"text-align: right;\">\n",
              "      <th></th>\n",
              "      <th>tweet_id</th>\n",
              "      <th>jpg_url</th>\n",
              "      <th>img_num</th>\n",
              "      <th>breed</th>\n",
              "    </tr>\n",
              "  </thead>\n",
              "  <tbody>\n",
              "    <tr>\n",
              "      <th>0</th>\n",
              "      <td>666020888022790149</td>\n",
              "      <td>https://pbs.twimg.com/media/CT4udn0WwAA0aMy.jpg</td>\n",
              "      <td>1</td>\n",
              "      <td>Welsh_springer_spaniel</td>\n",
              "    </tr>\n",
              "    <tr>\n",
              "      <th>1</th>\n",
              "      <td>666029285002620928</td>\n",
              "      <td>https://pbs.twimg.com/media/CT42GRgUYAA5iDo.jpg</td>\n",
              "      <td>1</td>\n",
              "      <td>redbone</td>\n",
              "    </tr>\n",
              "    <tr>\n",
              "      <th>2</th>\n",
              "      <td>666033412701032449</td>\n",
              "      <td>https://pbs.twimg.com/media/CT4521TWwAEvMyu.jpg</td>\n",
              "      <td>1</td>\n",
              "      <td>German_shepherd</td>\n",
              "    </tr>\n",
              "    <tr>\n",
              "      <th>3</th>\n",
              "      <td>666044226329800704</td>\n",
              "      <td>https://pbs.twimg.com/media/CT5Dr8HUEAA-lEu.jpg</td>\n",
              "      <td>1</td>\n",
              "      <td>Rhodesian_ridgeback</td>\n",
              "    </tr>\n",
              "    <tr>\n",
              "      <th>4</th>\n",
              "      <td>666049248165822465</td>\n",
              "      <td>https://pbs.twimg.com/media/CT5IQmsXIAAKY4A.jpg</td>\n",
              "      <td>1</td>\n",
              "      <td>miniature_pinscher</td>\n",
              "    </tr>\n",
              "  </tbody>\n",
              "</table>\n",
              "</div>"
            ],
            "text/plain": [
              "             tweet_id  ...                   breed\n",
              "0  666020888022790149  ...  Welsh_springer_spaniel\n",
              "1  666029285002620928  ...                 redbone\n",
              "2  666033412701032449  ...         German_shepherd\n",
              "3  666044226329800704  ...     Rhodesian_ridgeback\n",
              "4  666049248165822465  ...      miniature_pinscher\n",
              "\n",
              "[5 rows x 4 columns]"
            ]
          },
          "metadata": {
            "tags": []
          },
          "execution_count": 49
        }
      ]
    },
    {
      "cell_type": "markdown",
      "metadata": {
        "id": "QU0XkD29s5AX"
      },
      "source": [
        "### Seperate Dog breed using space instead of underscores and make each word uppercase"
      ]
    },
    {
      "cell_type": "code",
      "metadata": {
        "id": "oLZ2x-i2tIgN"
      },
      "source": [
        "# Turn to upper case\n",
        "predicitions_df[\"breed\"] = predicitions_df[\"breed\"].str.title()\n",
        "# Seperate at underscores\n",
        "predicitions_df[\"breed\"] = predicitions_df[\"breed\"].str.split(\"_\")\n",
        "# Join with spaces\n",
        "predicitions_df[\"breed\"] = predicitions_df[\"breed\"].str.join(\" \")"
      ],
      "execution_count": 50,
      "outputs": []
    },
    {
      "cell_type": "code",
      "metadata": {
        "id": "awyu9RM9uNrn",
        "outputId": "aa4c7fab-4d34-42e7-e99c-697433e1308e",
        "colab": {
          "base_uri": "https://localhost:8080/",
          "height": 121
        }
      },
      "source": [
        "predicitions_df[\"breed\"].head()"
      ],
      "execution_count": 51,
      "outputs": [
        {
          "output_type": "execute_result",
          "data": {
            "text/plain": [
              "0    Welsh Springer Spaniel\n",
              "1                   Redbone\n",
              "2           German Shepherd\n",
              "3       Rhodesian Ridgeback\n",
              "4        Miniature Pinscher\n",
              "Name: breed, dtype: object"
            ]
          },
          "metadata": {
            "tags": []
          },
          "execution_count": 51
        }
      ]
    },
    {
      "cell_type": "code",
      "metadata": {
        "id": "NWI2b6VZthMz",
        "outputId": "a5d6221f-b0d3-4e79-f9bf-fe2e3df795cc",
        "colab": {
          "base_uri": "https://localhost:8080/",
          "height": 206
        }
      },
      "source": [
        "predicitions_df.head()"
      ],
      "execution_count": 52,
      "outputs": [
        {
          "output_type": "execute_result",
          "data": {
            "text/html": [
              "<div>\n",
              "<style scoped>\n",
              "    .dataframe tbody tr th:only-of-type {\n",
              "        vertical-align: middle;\n",
              "    }\n",
              "\n",
              "    .dataframe tbody tr th {\n",
              "        vertical-align: top;\n",
              "    }\n",
              "\n",
              "    .dataframe thead th {\n",
              "        text-align: right;\n",
              "    }\n",
              "</style>\n",
              "<table border=\"1\" class=\"dataframe\">\n",
              "  <thead>\n",
              "    <tr style=\"text-align: right;\">\n",
              "      <th></th>\n",
              "      <th>tweet_id</th>\n",
              "      <th>jpg_url</th>\n",
              "      <th>img_num</th>\n",
              "      <th>breed</th>\n",
              "    </tr>\n",
              "  </thead>\n",
              "  <tbody>\n",
              "    <tr>\n",
              "      <th>0</th>\n",
              "      <td>666020888022790149</td>\n",
              "      <td>https://pbs.twimg.com/media/CT4udn0WwAA0aMy.jpg</td>\n",
              "      <td>1</td>\n",
              "      <td>Welsh Springer Spaniel</td>\n",
              "    </tr>\n",
              "    <tr>\n",
              "      <th>1</th>\n",
              "      <td>666029285002620928</td>\n",
              "      <td>https://pbs.twimg.com/media/CT42GRgUYAA5iDo.jpg</td>\n",
              "      <td>1</td>\n",
              "      <td>Redbone</td>\n",
              "    </tr>\n",
              "    <tr>\n",
              "      <th>2</th>\n",
              "      <td>666033412701032449</td>\n",
              "      <td>https://pbs.twimg.com/media/CT4521TWwAEvMyu.jpg</td>\n",
              "      <td>1</td>\n",
              "      <td>German Shepherd</td>\n",
              "    </tr>\n",
              "    <tr>\n",
              "      <th>3</th>\n",
              "      <td>666044226329800704</td>\n",
              "      <td>https://pbs.twimg.com/media/CT5Dr8HUEAA-lEu.jpg</td>\n",
              "      <td>1</td>\n",
              "      <td>Rhodesian Ridgeback</td>\n",
              "    </tr>\n",
              "    <tr>\n",
              "      <th>4</th>\n",
              "      <td>666049248165822465</td>\n",
              "      <td>https://pbs.twimg.com/media/CT5IQmsXIAAKY4A.jpg</td>\n",
              "      <td>1</td>\n",
              "      <td>Miniature Pinscher</td>\n",
              "    </tr>\n",
              "  </tbody>\n",
              "</table>\n",
              "</div>"
            ],
            "text/plain": [
              "             tweet_id  ...                   breed\n",
              "0  666020888022790149  ...  Welsh Springer Spaniel\n",
              "1  666029285002620928  ...                 Redbone\n",
              "2  666033412701032449  ...         German Shepherd\n",
              "3  666044226329800704  ...     Rhodesian Ridgeback\n",
              "4  666049248165822465  ...      Miniature Pinscher\n",
              "\n",
              "[5 rows x 4 columns]"
            ]
          },
          "metadata": {
            "tags": []
          },
          "execution_count": 52
        }
      ]
    },
    {
      "cell_type": "markdown",
      "metadata": {
        "id": "p82gaHHxok-Q"
      },
      "source": [
        "## Tweets Dataframe"
      ]
    },
    {
      "cell_type": "code",
      "metadata": {
        "id": "XLsitIXhh23r",
        "outputId": "63094055-f71c-41bc-c956-0a67c0eb81a9",
        "colab": {
          "base_uri": "https://localhost:8080/",
          "height": 206
        }
      },
      "source": [
        "tweet_json_df.head()"
      ],
      "execution_count": 53,
      "outputs": [
        {
          "output_type": "execute_result",
          "data": {
            "text/html": [
              "<div>\n",
              "<style scoped>\n",
              "    .dataframe tbody tr th:only-of-type {\n",
              "        vertical-align: middle;\n",
              "    }\n",
              "\n",
              "    .dataframe tbody tr th {\n",
              "        vertical-align: top;\n",
              "    }\n",
              "\n",
              "    .dataframe thead th {\n",
              "        text-align: right;\n",
              "    }\n",
              "</style>\n",
              "<table border=\"1\" class=\"dataframe\">\n",
              "  <thead>\n",
              "    <tr style=\"text-align: right;\">\n",
              "      <th></th>\n",
              "      <th>id</th>\n",
              "      <th>retweet_count</th>\n",
              "      <th>favorite_count</th>\n",
              "    </tr>\n",
              "  </thead>\n",
              "  <tbody>\n",
              "    <tr>\n",
              "      <th>0</th>\n",
              "      <td>892420643555336193</td>\n",
              "      <td>8853</td>\n",
              "      <td>39467</td>\n",
              "    </tr>\n",
              "    <tr>\n",
              "      <th>1</th>\n",
              "      <td>892177421306343426</td>\n",
              "      <td>6514</td>\n",
              "      <td>33819</td>\n",
              "    </tr>\n",
              "    <tr>\n",
              "      <th>2</th>\n",
              "      <td>891815181378084864</td>\n",
              "      <td>4328</td>\n",
              "      <td>25461</td>\n",
              "    </tr>\n",
              "    <tr>\n",
              "      <th>3</th>\n",
              "      <td>891689557279858688</td>\n",
              "      <td>8964</td>\n",
              "      <td>42908</td>\n",
              "    </tr>\n",
              "    <tr>\n",
              "      <th>4</th>\n",
              "      <td>891327558926688256</td>\n",
              "      <td>9774</td>\n",
              "      <td>41048</td>\n",
              "    </tr>\n",
              "  </tbody>\n",
              "</table>\n",
              "</div>"
            ],
            "text/plain": [
              "                   id  retweet_count  favorite_count\n",
              "0  892420643555336193           8853           39467\n",
              "1  892177421306343426           6514           33819\n",
              "2  891815181378084864           4328           25461\n",
              "3  891689557279858688           8964           42908\n",
              "4  891327558926688256           9774           41048"
            ]
          },
          "metadata": {
            "tags": []
          },
          "execution_count": 53
        }
      ]
    },
    {
      "cell_type": "code",
      "metadata": {
        "id": "JuUxrP_Dh7Oi",
        "outputId": "d9b9514a-4478-4c0d-9f21-60c6ce5334f9",
        "colab": {
          "base_uri": "https://localhost:8080/",
          "height": 191
        }
      },
      "source": [
        "tweet_json_df.info()"
      ],
      "execution_count": 54,
      "outputs": [
        {
          "output_type": "stream",
          "text": [
            "<class 'pandas.core.frame.DataFrame'>\n",
            "RangeIndex: 2354 entries, 0 to 2353\n",
            "Data columns (total 3 columns):\n",
            " #   Column          Non-Null Count  Dtype\n",
            "---  ------          --------------  -----\n",
            " 0   id              2354 non-null   int64\n",
            " 1   retweet_count   2354 non-null   int64\n",
            " 2   favorite_count  2354 non-null   int64\n",
            "dtypes: int64(3)\n",
            "memory usage: 55.3 KB\n"
          ],
          "name": "stdout"
        }
      ]
    },
    {
      "cell_type": "code",
      "metadata": {
        "id": "KQLXIEYOilkq",
        "outputId": "f9ffcb94-b52b-4cb1-b3a1-44ef3c3783c6",
        "colab": {
          "base_uri": "https://localhost:8080/",
          "height": 300
        }
      },
      "source": [
        "tweet_json_df.describe()"
      ],
      "execution_count": 55,
      "outputs": [
        {
          "output_type": "execute_result",
          "data": {
            "text/html": [
              "<div>\n",
              "<style scoped>\n",
              "    .dataframe tbody tr th:only-of-type {\n",
              "        vertical-align: middle;\n",
              "    }\n",
              "\n",
              "    .dataframe tbody tr th {\n",
              "        vertical-align: top;\n",
              "    }\n",
              "\n",
              "    .dataframe thead th {\n",
              "        text-align: right;\n",
              "    }\n",
              "</style>\n",
              "<table border=\"1\" class=\"dataframe\">\n",
              "  <thead>\n",
              "    <tr style=\"text-align: right;\">\n",
              "      <th></th>\n",
              "      <th>id</th>\n",
              "      <th>retweet_count</th>\n",
              "      <th>favorite_count</th>\n",
              "    </tr>\n",
              "  </thead>\n",
              "  <tbody>\n",
              "    <tr>\n",
              "      <th>count</th>\n",
              "      <td>2.354000e+03</td>\n",
              "      <td>2354.000000</td>\n",
              "      <td>2354.000000</td>\n",
              "    </tr>\n",
              "    <tr>\n",
              "      <th>mean</th>\n",
              "      <td>7.426978e+17</td>\n",
              "      <td>3164.797366</td>\n",
              "      <td>8080.968564</td>\n",
              "    </tr>\n",
              "    <tr>\n",
              "      <th>std</th>\n",
              "      <td>6.852812e+16</td>\n",
              "      <td>5284.770364</td>\n",
              "      <td>11814.771334</td>\n",
              "    </tr>\n",
              "    <tr>\n",
              "      <th>min</th>\n",
              "      <td>6.660209e+17</td>\n",
              "      <td>0.000000</td>\n",
              "      <td>0.000000</td>\n",
              "    </tr>\n",
              "    <tr>\n",
              "      <th>25%</th>\n",
              "      <td>6.783975e+17</td>\n",
              "      <td>624.500000</td>\n",
              "      <td>1415.000000</td>\n",
              "    </tr>\n",
              "    <tr>\n",
              "      <th>50%</th>\n",
              "      <td>7.194596e+17</td>\n",
              "      <td>1473.500000</td>\n",
              "      <td>3603.500000</td>\n",
              "    </tr>\n",
              "    <tr>\n",
              "      <th>75%</th>\n",
              "      <td>7.993058e+17</td>\n",
              "      <td>3652.000000</td>\n",
              "      <td>10122.250000</td>\n",
              "    </tr>\n",
              "    <tr>\n",
              "      <th>max</th>\n",
              "      <td>8.924206e+17</td>\n",
              "      <td>79515.000000</td>\n",
              "      <td>132810.000000</td>\n",
              "    </tr>\n",
              "  </tbody>\n",
              "</table>\n",
              "</div>"
            ],
            "text/plain": [
              "                 id  retweet_count  favorite_count\n",
              "count  2.354000e+03    2354.000000     2354.000000\n",
              "mean   7.426978e+17    3164.797366     8080.968564\n",
              "std    6.852812e+16    5284.770364    11814.771334\n",
              "min    6.660209e+17       0.000000        0.000000\n",
              "25%    6.783975e+17     624.500000     1415.000000\n",
              "50%    7.194596e+17    1473.500000     3603.500000\n",
              "75%    7.993058e+17    3652.000000    10122.250000\n",
              "max    8.924206e+17   79515.000000   132810.000000"
            ]
          },
          "metadata": {
            "tags": []
          },
          "execution_count": 55
        }
      ]
    },
    {
      "cell_type": "markdown",
      "metadata": {
        "id": "RwitVAZLiRi5"
      },
      "source": [
        "# Twitter Archive Master Dataframe"
      ]
    },
    {
      "cell_type": "markdown",
      "metadata": {
        "id": "eJingEyKovzV"
      },
      "source": [
        "## Quality Issues\n",
        "- tweet_id column is not useful\n",
        "## Tidiness Issues\n",
        "- There should be a single dataframe"
      ]
    },
    {
      "cell_type": "markdown",
      "metadata": {
        "id": "AyOxfsZtptEg"
      },
      "source": [
        "### We should use the predictions dataframe to keep the tweets as we only want dog tweets"
      ]
    },
    {
      "cell_type": "code",
      "metadata": {
        "id": "S4vcsDVzpylU"
      },
      "source": [
        "twitter_archive_master = pd.merge(left=twitter_df, right=predicitions_df,\n",
        "                                  how='right', on=\"tweet_id\")"
      ],
      "execution_count": 56,
      "outputs": []
    },
    {
      "cell_type": "code",
      "metadata": {
        "id": "-RRc7G4JqaOv"
      },
      "source": [
        "twitter_archive_master = pd.merge(left=tweet_json_df, right=twitter_archive_master,\n",
        "                                  how='right', left_on=\"id\", right_on=\"tweet_id\")"
      ],
      "execution_count": 57,
      "outputs": []
    },
    {
      "cell_type": "code",
      "metadata": {
        "id": "gYnzlS-uqpU3"
      },
      "source": [
        "# Remove tweet_id column as we do not need it anymore\n",
        "twitter_archive_master.drop(['tweet_id', 'id'], axis=1, inplace=True)"
      ],
      "execution_count": 58,
      "outputs": []
    },
    {
      "cell_type": "code",
      "metadata": {
        "id": "GqpTaw5ls-D6"
      },
      "source": [
        "twitter_archive_master[[\"retweet_count\", \"favorite_count\"]] = twitter_archive_master[[\"retweet_count\", \"favorite_count\"]].astype('Int64')"
      ],
      "execution_count": 59,
      "outputs": []
    },
    {
      "cell_type": "code",
      "metadata": {
        "id": "1nCHotekq30-",
        "outputId": "295b3e7f-afe5-4c59-baaf-4bb547e1fda0",
        "colab": {
          "base_uri": "https://localhost:8080/",
          "height": 293
        }
      },
      "source": [
        "twitter_archive_master.head()"
      ],
      "execution_count": 60,
      "outputs": [
        {
          "output_type": "execute_result",
          "data": {
            "text/html": [
              "<div>\n",
              "<style scoped>\n",
              "    .dataframe tbody tr th:only-of-type {\n",
              "        vertical-align: middle;\n",
              "    }\n",
              "\n",
              "    .dataframe tbody tr th {\n",
              "        vertical-align: top;\n",
              "    }\n",
              "\n",
              "    .dataframe thead th {\n",
              "        text-align: right;\n",
              "    }\n",
              "</style>\n",
              "<table border=\"1\" class=\"dataframe\">\n",
              "  <thead>\n",
              "    <tr style=\"text-align: right;\">\n",
              "      <th></th>\n",
              "      <th>retweet_count</th>\n",
              "      <th>favorite_count</th>\n",
              "      <th>text</th>\n",
              "      <th>expanded_urls</th>\n",
              "      <th>name</th>\n",
              "      <th>date</th>\n",
              "      <th>time</th>\n",
              "      <th>stage</th>\n",
              "      <th>rating</th>\n",
              "      <th>jpg_url</th>\n",
              "      <th>img_num</th>\n",
              "      <th>breed</th>\n",
              "    </tr>\n",
              "  </thead>\n",
              "  <tbody>\n",
              "    <tr>\n",
              "      <th>0</th>\n",
              "      <td>532</td>\n",
              "      <td>2535</td>\n",
              "      <td>Here we have a Japanese Irish Setter. Lost eye...</td>\n",
              "      <td>https://twitter.com/dog_rates/status/666020888...</td>\n",
              "      <td>NaN</td>\n",
              "      <td>2015-11-15</td>\n",
              "      <td>22:32:08</td>\n",
              "      <td>NaN</td>\n",
              "      <td>8/10</td>\n",
              "      <td>https://pbs.twimg.com/media/CT4udn0WwAA0aMy.jpg</td>\n",
              "      <td>1</td>\n",
              "      <td>Welsh Springer Spaniel</td>\n",
              "    </tr>\n",
              "    <tr>\n",
              "      <th>1</th>\n",
              "      <td>48</td>\n",
              "      <td>132</td>\n",
              "      <td>This is a western brown Mitsubishi terrier. Up...</td>\n",
              "      <td>https://twitter.com/dog_rates/status/666029285...</td>\n",
              "      <td>NaN</td>\n",
              "      <td>2015-11-15</td>\n",
              "      <td>23:05:30</td>\n",
              "      <td>NaN</td>\n",
              "      <td>7/10</td>\n",
              "      <td>https://pbs.twimg.com/media/CT42GRgUYAA5iDo.jpg</td>\n",
              "      <td>1</td>\n",
              "      <td>Redbone</td>\n",
              "    </tr>\n",
              "    <tr>\n",
              "      <th>2</th>\n",
              "      <td>47</td>\n",
              "      <td>128</td>\n",
              "      <td>Here is a very happy pup. Big fan of well-main...</td>\n",
              "      <td>https://twitter.com/dog_rates/status/666033412...</td>\n",
              "      <td>NaN</td>\n",
              "      <td>2015-11-15</td>\n",
              "      <td>23:21:54</td>\n",
              "      <td>NaN</td>\n",
              "      <td>9/10</td>\n",
              "      <td>https://pbs.twimg.com/media/CT4521TWwAEvMyu.jpg</td>\n",
              "      <td>1</td>\n",
              "      <td>German Shepherd</td>\n",
              "    </tr>\n",
              "    <tr>\n",
              "      <th>3</th>\n",
              "      <td>147</td>\n",
              "      <td>311</td>\n",
              "      <td>This is a purebred Piers Morgan. Loves to Netf...</td>\n",
              "      <td>https://twitter.com/dog_rates/status/666044226...</td>\n",
              "      <td>NaN</td>\n",
              "      <td>2015-11-16</td>\n",
              "      <td>00:04:52</td>\n",
              "      <td>NaN</td>\n",
              "      <td>6/10</td>\n",
              "      <td>https://pbs.twimg.com/media/CT5Dr8HUEAA-lEu.jpg</td>\n",
              "      <td>1</td>\n",
              "      <td>Rhodesian Ridgeback</td>\n",
              "    </tr>\n",
              "    <tr>\n",
              "      <th>4</th>\n",
              "      <td>41</td>\n",
              "      <td>111</td>\n",
              "      <td>Here we have a 1949 1st generation vulpix. Enj...</td>\n",
              "      <td>https://twitter.com/dog_rates/status/666049248...</td>\n",
              "      <td>NaN</td>\n",
              "      <td>2015-11-16</td>\n",
              "      <td>00:24:50</td>\n",
              "      <td>NaN</td>\n",
              "      <td>5/10</td>\n",
              "      <td>https://pbs.twimg.com/media/CT5IQmsXIAAKY4A.jpg</td>\n",
              "      <td>1</td>\n",
              "      <td>Miniature Pinscher</td>\n",
              "    </tr>\n",
              "  </tbody>\n",
              "</table>\n",
              "</div>"
            ],
            "text/plain": [
              "   retweet_count  favorite_count  ... img_num                   breed\n",
              "0            532            2535  ...       1  Welsh Springer Spaniel\n",
              "1             48             132  ...       1                 Redbone\n",
              "2             47             128  ...       1         German Shepherd\n",
              "3            147             311  ...       1     Rhodesian Ridgeback\n",
              "4             41             111  ...       1      Miniature Pinscher\n",
              "\n",
              "[5 rows x 12 columns]"
            ]
          },
          "metadata": {
            "tags": []
          },
          "execution_count": 60
        }
      ]
    },
    {
      "cell_type": "code",
      "metadata": {
        "id": "Di7afTyLrGEO"
      },
      "source": [
        "twitter_archive_master.to_csv('twitter_archive_master.csv', index=False)"
      ],
      "execution_count": 61,
      "outputs": []
    },
    {
      "cell_type": "code",
      "metadata": {
        "id": "DN4xG-4vAPRg",
        "outputId": "316e0c28-4bfc-4890-b86c-3899e7cc0745",
        "colab": {
          "base_uri": "https://localhost:8080/",
          "height": 499
        }
      },
      "source": [
        "twitter_archive_master[\"stage\"].value_counts().plot.pie(figsize=(8, 8), shadow=True, legend=True, autopct='%1.1f%%', title=\"Popular stage\")"
      ],
      "execution_count": 62,
      "outputs": [
        {
          "output_type": "execute_result",
          "data": {
            "text/plain": [
              "<matplotlib.axes._subplots.AxesSubplot at 0x7fdfd8620588>"
            ]
          },
          "metadata": {
            "tags": []
          },
          "execution_count": 62
        },
        {
          "output_type": "display_data",
          "data": {
            "image/png": "[encoded data removed]",
            "text/plain": [
              "<Figure size 576x576 with 1 Axes>"
            ]
          },
          "metadata": {
            "tags": []
          }
        }
      ]
    },
    {
      "cell_type": "code",
      "metadata": {
        "id": "BM9xYj4NBB7K",
        "outputId": "aa119b6a-d73a-4f55-8f88-dc1cffe22829",
        "colab": {
          "base_uri": "https://localhost:8080/",
          "height": 338
        }
      },
      "source": [
        "df = pd.DataFrame({'mean_retweets':twitter_archive_master.groupby('stage')['retweet_count'].agg('mean'),\n",
        "                   'mean_favourites':twitter_archive_master.groupby('stage')['favorite_count'].agg('mean')})\n",
        "df.plot.bar(title=\"Stage vs. Mean Retweets and Favourites\")"
      ],
      "execution_count": 63,
      "outputs": [
        {
          "output_type": "execute_result",
          "data": {
            "text/plain": [
              "<matplotlib.axes._subplots.AxesSubplot at 0x7fdfd8670048>"
            ]
          },
          "metadata": {
            "tags": []
          },
          "execution_count": 63
        },
        {
          "output_type": "display_data",
          "data": {
            "image/png": "[encoded data removed]",
            "text/plain": [
              "<Figure size 432x288 with 1 Axes>"
            ]
          },
          "metadata": {
            "tags": [],
            "needs_background": "light"
          }
        }
      ]
    },
    {
      "cell_type": "code",
      "metadata": {
        "id": "d1JIcgRPL_lP",
        "outputId": "a8e8858d-bd95-4f8d-aa63-e35ac39a1d75",
        "colab": {
          "base_uri": "https://localhost:8080/",
          "height": 493
        }
      },
      "source": [
        "top_10_breeds_retweets = twitter_archive_master.groupby('breed')['retweet_count'].agg('mean').sort_values(ascending=False)[:10]\n",
        "top_10_breeds_retweets.plot.bar(figsize=(8, 6), title=\"Top 10 retweeted breeds\")"
      ],
      "execution_count": 64,
      "outputs": [
        {
          "output_type": "execute_result",
          "data": {
            "text/plain": [
              "<matplotlib.axes._subplots.AxesSubplot at 0x7fdfd8009fd0>"
            ]
          },
          "metadata": {
            "tags": []
          },
          "execution_count": 64
        },
        {
          "output_type": "display_data",
          "data": {
            "image/png": "[encoded data removed]",
            "text/plain": [
              "<Figure size 576x432 with 1 Axes>"
            ]
          },
          "metadata": {
            "tags": [],
            "needs_background": "light"
          }
        }
      ]
    },
    {
      "cell_type": "code",
      "metadata": {
        "id": "jjM7x-7rJ91l",
        "outputId": "0517e853-23c2-4227-8232-18896f90671d",
        "colab": {
          "base_uri": "https://localhost:8080/",
          "height": 541
        }
      },
      "source": [
        "top_10_breeds_favourites = twitter_archive_master.groupby('breed')['favorite_count'].agg('mean').sort_values(ascending=False)[:10]\n",
        "top_10_breeds_favourites.plot.bar(figsize=(8, 6), title=\"Top 10 favourited breeds\")"
      ],
      "execution_count": 65,
      "outputs": [
        {
          "output_type": "execute_result",
          "data": {
            "text/plain": [
              "<matplotlib.axes._subplots.AxesSubplot at 0x7fdfd7f8b278>"
            ]
          },
          "metadata": {
            "tags": []
          },
          "execution_count": 65
        },
        {
          "output_type": "display_data",
          "data": {
            "image/png": "[encoded data removed]",
            "text/plain": [
              "<Figure size 576x432 with 1 Axes>"
            ]
          },
          "metadata": {
            "tags": [],
            "needs_background": "light"
          }
        }
      ]
    },
    {
      "cell_type": "code",
      "metadata": {
        "id": "IMco2l1JO6Rf",
        "outputId": "60307b15-458a-4a20-ed28-5275813bd9cd",
        "colab": {
          "base_uri": "https://localhost:8080/",
          "height": 546
        }
      },
      "source": [
        "top_20_names = twitter_archive_master['name'].value_counts().sort_values(ascending=False)[:20]\n",
        "top_20_names.plot.bar(figsize=(16, 8), title=\"Popular names\")"
      ],
      "execution_count": 66,
      "outputs": [
        {
          "output_type": "execute_result",
          "data": {
            "text/plain": [
              "<matplotlib.axes._subplots.AxesSubplot at 0x7fdfd7f10320>"
            ]
          },
          "metadata": {
            "tags": []
          },
          "execution_count": 66
        },
        {
          "output_type": "display_data",
          "data": {
            "image/png": "[encoded data removed]",
            "text/plain": [
              "<Figure size 1152x576 with 1 Axes>"
            ]
          },
          "metadata": {
            "tags": [],
            "needs_background": "light"
          }
        }
      ]
    },
    {
      "cell_type": "code",
      "metadata": {
        "id": "_u_2wNQfOmDq"
      },
      "source": [
        ""
      ],
      "execution_count": 66,
      "outputs": []
    }
  ]
}